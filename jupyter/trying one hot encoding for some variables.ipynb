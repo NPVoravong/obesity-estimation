{
 "cells": [
  {
   "cell_type": "code",
   "execution_count": 1,
   "metadata": {},
   "outputs": [],
   "source": [
    "import os\n",
    "import pandas as pd\n",
    "import matplotlib.pyplot as plt  "
   ]
  },
  {
   "cell_type": "markdown",
   "metadata": {},
   "source": [
    "## Variables:\n",
    "\n",
    "Gender: (female,male)\n",
    "\n",
    "Age (years): numeric\n",
    "\n",
    "Height (meters): numeric\n",
    "\n",
    "Weight (kg): numeric\n",
    "\n",
    "family_history_with_overweight: (no,yes)\n",
    "\n",
    "FAVC (Frequent consumption of high caloric food): (no,yes)\n",
    "\n",
    "FCVC (Frequency of consumption of vegetables): (Never,Sometimes,Always)\n",
    "\n",
    "NCP (Number of main meals): (Between 1 & 2,Three,More than three)\n",
    "\n",
    "CAEC (Consumption of food between meals): (no,Sometimes,Frequently,Always)\n",
    "\n",
    "SMOKE: (no,yes)\n",
    "\n",
    "CH2O (Consumption of water daily): (Less than a liter,Between 1 and 2 L,More than 2 L)\n",
    "\n",
    "SCC (Calories consumption monitoring): (no,yes)\n",
    "\n",
    "FAF (Physical activity frequency): (I do not have,1 or 2 days,2 or 4 days,4 or 5 days)\n",
    "\n",
    "TUE (Time using technology devices): (0–2 hours,3–5 hours,More than 5 hours)\n",
    "\n",
    "CALC (Consumption of alcohol): (no,Sometimes,Frequently,Always)\n",
    "\n",
    "MTRANS (Transportation used): (Automobile,Motorbike,Bike,Public Transportation,Walking)\n",
    "\n",
    "NObeyesdad: (Insufficient Weight, Normal Weight, Overweight Level I, Overweight Level II, Obesity Type I, Obesity Type II \n",
    "and Obesity Type III) --> (Insufficient,Normal,Overweight,Obese)"
   ]
  },
  {
   "cell_type": "code",
   "execution_count": 2,
   "metadata": {},
   "outputs": [
    {
     "data": {
      "text/html": [
       "<div>\n",
       "<style scoped>\n",
       "    .dataframe tbody tr th:only-of-type {\n",
       "        vertical-align: middle;\n",
       "    }\n",
       "\n",
       "    .dataframe tbody tr th {\n",
       "        vertical-align: top;\n",
       "    }\n",
       "\n",
       "    .dataframe thead th {\n",
       "        text-align: right;\n",
       "    }\n",
       "</style>\n",
       "<table border=\"1\" class=\"dataframe\">\n",
       "  <thead>\n",
       "    <tr style=\"text-align: right;\">\n",
       "      <th></th>\n",
       "      <th>Gender</th>\n",
       "      <th>Age</th>\n",
       "      <th>Height</th>\n",
       "      <th>Weight</th>\n",
       "      <th>family_history_with_overweight</th>\n",
       "      <th>FAVC</th>\n",
       "      <th>FCVC</th>\n",
       "      <th>NCP</th>\n",
       "      <th>CAEC</th>\n",
       "      <th>SMOKE</th>\n",
       "      <th>CH2O</th>\n",
       "      <th>SCC</th>\n",
       "      <th>FAF</th>\n",
       "      <th>TUE</th>\n",
       "      <th>CALC</th>\n",
       "      <th>MTRANS</th>\n",
       "      <th>NObeyesdad</th>\n",
       "    </tr>\n",
       "  </thead>\n",
       "  <tbody>\n",
       "    <tr>\n",
       "      <th>0</th>\n",
       "      <td>Female</td>\n",
       "      <td>21.0</td>\n",
       "      <td>1.62</td>\n",
       "      <td>64.0</td>\n",
       "      <td>yes</td>\n",
       "      <td>no</td>\n",
       "      <td>2.0</td>\n",
       "      <td>3.0</td>\n",
       "      <td>Sometimes</td>\n",
       "      <td>no</td>\n",
       "      <td>2.0</td>\n",
       "      <td>no</td>\n",
       "      <td>0.0</td>\n",
       "      <td>1.0</td>\n",
       "      <td>no</td>\n",
       "      <td>Public_Transportation</td>\n",
       "      <td>Normal_Weight</td>\n",
       "    </tr>\n",
       "    <tr>\n",
       "      <th>1</th>\n",
       "      <td>Female</td>\n",
       "      <td>21.0</td>\n",
       "      <td>1.52</td>\n",
       "      <td>56.0</td>\n",
       "      <td>yes</td>\n",
       "      <td>no</td>\n",
       "      <td>3.0</td>\n",
       "      <td>3.0</td>\n",
       "      <td>Sometimes</td>\n",
       "      <td>yes</td>\n",
       "      <td>3.0</td>\n",
       "      <td>yes</td>\n",
       "      <td>3.0</td>\n",
       "      <td>0.0</td>\n",
       "      <td>Sometimes</td>\n",
       "      <td>Public_Transportation</td>\n",
       "      <td>Normal_Weight</td>\n",
       "    </tr>\n",
       "    <tr>\n",
       "      <th>2</th>\n",
       "      <td>Male</td>\n",
       "      <td>23.0</td>\n",
       "      <td>1.80</td>\n",
       "      <td>77.0</td>\n",
       "      <td>yes</td>\n",
       "      <td>no</td>\n",
       "      <td>2.0</td>\n",
       "      <td>3.0</td>\n",
       "      <td>Sometimes</td>\n",
       "      <td>no</td>\n",
       "      <td>2.0</td>\n",
       "      <td>no</td>\n",
       "      <td>2.0</td>\n",
       "      <td>1.0</td>\n",
       "      <td>Frequently</td>\n",
       "      <td>Public_Transportation</td>\n",
       "      <td>Normal_Weight</td>\n",
       "    </tr>\n",
       "    <tr>\n",
       "      <th>3</th>\n",
       "      <td>Male</td>\n",
       "      <td>27.0</td>\n",
       "      <td>1.80</td>\n",
       "      <td>87.0</td>\n",
       "      <td>no</td>\n",
       "      <td>no</td>\n",
       "      <td>3.0</td>\n",
       "      <td>3.0</td>\n",
       "      <td>Sometimes</td>\n",
       "      <td>no</td>\n",
       "      <td>2.0</td>\n",
       "      <td>no</td>\n",
       "      <td>2.0</td>\n",
       "      <td>0.0</td>\n",
       "      <td>Frequently</td>\n",
       "      <td>Walking</td>\n",
       "      <td>Overweight_Level_I</td>\n",
       "    </tr>\n",
       "    <tr>\n",
       "      <th>4</th>\n",
       "      <td>Male</td>\n",
       "      <td>22.0</td>\n",
       "      <td>1.78</td>\n",
       "      <td>89.8</td>\n",
       "      <td>no</td>\n",
       "      <td>no</td>\n",
       "      <td>2.0</td>\n",
       "      <td>1.0</td>\n",
       "      <td>Sometimes</td>\n",
       "      <td>no</td>\n",
       "      <td>2.0</td>\n",
       "      <td>no</td>\n",
       "      <td>0.0</td>\n",
       "      <td>0.0</td>\n",
       "      <td>Sometimes</td>\n",
       "      <td>Public_Transportation</td>\n",
       "      <td>Overweight_Level_II</td>\n",
       "    </tr>\n",
       "  </tbody>\n",
       "</table>\n",
       "</div>"
      ],
      "text/plain": [
       "   Gender   Age  Height  Weight family_history_with_overweight FAVC  FCVC  \\\n",
       "0  Female  21.0    1.62    64.0                            yes   no   2.0   \n",
       "1  Female  21.0    1.52    56.0                            yes   no   3.0   \n",
       "2    Male  23.0    1.80    77.0                            yes   no   2.0   \n",
       "3    Male  27.0    1.80    87.0                             no   no   3.0   \n",
       "4    Male  22.0    1.78    89.8                             no   no   2.0   \n",
       "\n",
       "   NCP       CAEC SMOKE  CH2O  SCC  FAF  TUE        CALC  \\\n",
       "0  3.0  Sometimes    no   2.0   no  0.0  1.0          no   \n",
       "1  3.0  Sometimes   yes   3.0  yes  3.0  0.0   Sometimes   \n",
       "2  3.0  Sometimes    no   2.0   no  2.0  1.0  Frequently   \n",
       "3  3.0  Sometimes    no   2.0   no  2.0  0.0  Frequently   \n",
       "4  1.0  Sometimes    no   2.0   no  0.0  0.0   Sometimes   \n",
       "\n",
       "                  MTRANS           NObeyesdad  \n",
       "0  Public_Transportation        Normal_Weight  \n",
       "1  Public_Transportation        Normal_Weight  \n",
       "2  Public_Transportation        Normal_Weight  \n",
       "3                Walking   Overweight_Level_I  \n",
       "4  Public_Transportation  Overweight_Level_II  "
      ]
     },
     "execution_count": 2,
     "metadata": {},
     "output_type": "execute_result"
    }
   ],
   "source": [
    "obesity_data = pd.read_csv('../data/original_data.csv')\n",
    "obesity_df = pd.DataFrame(obesity_data)\n",
    "obesity_df.head()"
   ]
  },
  {
   "cell_type": "code",
   "execution_count": 3,
   "metadata": {
    "scrolled": true
   },
   "outputs": [
    {
     "data": {
      "text/html": [
       "<div>\n",
       "<style scoped>\n",
       "    .dataframe tbody tr th:only-of-type {\n",
       "        vertical-align: middle;\n",
       "    }\n",
       "\n",
       "    .dataframe tbody tr th {\n",
       "        vertical-align: top;\n",
       "    }\n",
       "\n",
       "    .dataframe thead th {\n",
       "        text-align: right;\n",
       "    }\n",
       "</style>\n",
       "<table border=\"1\" class=\"dataframe\">\n",
       "  <thead>\n",
       "    <tr style=\"text-align: right;\">\n",
       "      <th></th>\n",
       "      <th>Gender</th>\n",
       "      <th>Age</th>\n",
       "      <th>Height</th>\n",
       "      <th>Weight</th>\n",
       "      <th>family_history_with_overweight</th>\n",
       "      <th>FAVC</th>\n",
       "      <th>FCVC</th>\n",
       "      <th>NCP</th>\n",
       "      <th>CAEC</th>\n",
       "      <th>SMOKE</th>\n",
       "      <th>CH2O</th>\n",
       "      <th>SCC</th>\n",
       "      <th>FAF</th>\n",
       "      <th>TUE</th>\n",
       "      <th>CALC</th>\n",
       "      <th>MTRANS</th>\n",
       "      <th>NObeyesdad</th>\n",
       "    </tr>\n",
       "  </thead>\n",
       "  <tbody>\n",
       "    <tr>\n",
       "      <th>2106</th>\n",
       "      <td>Female</td>\n",
       "      <td>21.0</td>\n",
       "      <td>1.7</td>\n",
       "      <td>131.4</td>\n",
       "      <td>yes</td>\n",
       "      <td>yes</td>\n",
       "      <td>3.0</td>\n",
       "      <td>3.0</td>\n",
       "      <td>Sometimes</td>\n",
       "      <td>no</td>\n",
       "      <td>2.0</td>\n",
       "      <td>no</td>\n",
       "      <td>2.0</td>\n",
       "      <td>1.0</td>\n",
       "      <td>Sometimes</td>\n",
       "      <td>Public_Transportation</td>\n",
       "      <td>Obesity_Type_III</td>\n",
       "    </tr>\n",
       "    <tr>\n",
       "      <th>2107</th>\n",
       "      <td>Female</td>\n",
       "      <td>22.0</td>\n",
       "      <td>1.7</td>\n",
       "      <td>133.7</td>\n",
       "      <td>yes</td>\n",
       "      <td>yes</td>\n",
       "      <td>3.0</td>\n",
       "      <td>3.0</td>\n",
       "      <td>Sometimes</td>\n",
       "      <td>no</td>\n",
       "      <td>2.0</td>\n",
       "      <td>no</td>\n",
       "      <td>1.0</td>\n",
       "      <td>1.0</td>\n",
       "      <td>Sometimes</td>\n",
       "      <td>Public_Transportation</td>\n",
       "      <td>Obesity_Type_III</td>\n",
       "    </tr>\n",
       "    <tr>\n",
       "      <th>2108</th>\n",
       "      <td>Female</td>\n",
       "      <td>23.0</td>\n",
       "      <td>1.8</td>\n",
       "      <td>133.7</td>\n",
       "      <td>yes</td>\n",
       "      <td>yes</td>\n",
       "      <td>3.0</td>\n",
       "      <td>3.0</td>\n",
       "      <td>Sometimes</td>\n",
       "      <td>no</td>\n",
       "      <td>2.0</td>\n",
       "      <td>no</td>\n",
       "      <td>1.0</td>\n",
       "      <td>1.0</td>\n",
       "      <td>Sometimes</td>\n",
       "      <td>Public_Transportation</td>\n",
       "      <td>Obesity_Type_III</td>\n",
       "    </tr>\n",
       "    <tr>\n",
       "      <th>2109</th>\n",
       "      <td>Female</td>\n",
       "      <td>24.0</td>\n",
       "      <td>1.7</td>\n",
       "      <td>133.3</td>\n",
       "      <td>yes</td>\n",
       "      <td>yes</td>\n",
       "      <td>3.0</td>\n",
       "      <td>3.0</td>\n",
       "      <td>Sometimes</td>\n",
       "      <td>no</td>\n",
       "      <td>3.0</td>\n",
       "      <td>no</td>\n",
       "      <td>1.0</td>\n",
       "      <td>1.0</td>\n",
       "      <td>Sometimes</td>\n",
       "      <td>Public_Transportation</td>\n",
       "      <td>Obesity_Type_III</td>\n",
       "    </tr>\n",
       "    <tr>\n",
       "      <th>2110</th>\n",
       "      <td>Female</td>\n",
       "      <td>24.0</td>\n",
       "      <td>1.7</td>\n",
       "      <td>133.5</td>\n",
       "      <td>yes</td>\n",
       "      <td>yes</td>\n",
       "      <td>3.0</td>\n",
       "      <td>3.0</td>\n",
       "      <td>Sometimes</td>\n",
       "      <td>no</td>\n",
       "      <td>3.0</td>\n",
       "      <td>no</td>\n",
       "      <td>1.0</td>\n",
       "      <td>1.0</td>\n",
       "      <td>Sometimes</td>\n",
       "      <td>Public_Transportation</td>\n",
       "      <td>Obesity_Type_III</td>\n",
       "    </tr>\n",
       "  </tbody>\n",
       "</table>\n",
       "</div>"
      ],
      "text/plain": [
       "      Gender   Age  Height  Weight family_history_with_overweight FAVC  FCVC  \\\n",
       "2106  Female  21.0     1.7   131.4                            yes  yes   3.0   \n",
       "2107  Female  22.0     1.7   133.7                            yes  yes   3.0   \n",
       "2108  Female  23.0     1.8   133.7                            yes  yes   3.0   \n",
       "2109  Female  24.0     1.7   133.3                            yes  yes   3.0   \n",
       "2110  Female  24.0     1.7   133.5                            yes  yes   3.0   \n",
       "\n",
       "      NCP       CAEC SMOKE  CH2O SCC  FAF  TUE       CALC  \\\n",
       "2106  3.0  Sometimes    no   2.0  no  2.0  1.0  Sometimes   \n",
       "2107  3.0  Sometimes    no   2.0  no  1.0  1.0  Sometimes   \n",
       "2108  3.0  Sometimes    no   2.0  no  1.0  1.0  Sometimes   \n",
       "2109  3.0  Sometimes    no   3.0  no  1.0  1.0  Sometimes   \n",
       "2110  3.0  Sometimes    no   3.0  no  1.0  1.0  Sometimes   \n",
       "\n",
       "                     MTRANS        NObeyesdad  \n",
       "2106  Public_Transportation  Obesity_Type_III  \n",
       "2107  Public_Transportation  Obesity_Type_III  \n",
       "2108  Public_Transportation  Obesity_Type_III  \n",
       "2109  Public_Transportation  Obesity_Type_III  \n",
       "2110  Public_Transportation  Obesity_Type_III  "
      ]
     },
     "execution_count": 3,
     "metadata": {},
     "output_type": "execute_result"
    }
   ],
   "source": [
    "obesity_rounded = obesity_df.round({'Age':0,'Height':1,'Weight':1, 'FCVC':0, 'NCP':0, 'CH2O':0, 'FAF':0, 'TUE':0})\n",
    "obesity_rounded.tail()"
   ]
  },
  {
   "cell_type": "code",
   "execution_count": 4,
   "metadata": {
    "scrolled": true
   },
   "outputs": [
    {
     "data": {
      "text/html": [
       "<div>\n",
       "<style scoped>\n",
       "    .dataframe tbody tr th:only-of-type {\n",
       "        vertical-align: middle;\n",
       "    }\n",
       "\n",
       "    .dataframe tbody tr th {\n",
       "        vertical-align: top;\n",
       "    }\n",
       "\n",
       "    .dataframe thead th {\n",
       "        text-align: right;\n",
       "    }\n",
       "</style>\n",
       "<table border=\"1\" class=\"dataframe\">\n",
       "  <thead>\n",
       "    <tr style=\"text-align: right;\">\n",
       "      <th></th>\n",
       "      <th>Gender</th>\n",
       "      <th>Age</th>\n",
       "      <th>Height</th>\n",
       "      <th>Weight</th>\n",
       "      <th>family_history_with_overweight</th>\n",
       "      <th>FAVC</th>\n",
       "      <th>FCVC</th>\n",
       "      <th>NCP</th>\n",
       "      <th>CAEC</th>\n",
       "      <th>SMOKE</th>\n",
       "      <th>CH2O</th>\n",
       "      <th>SCC</th>\n",
       "      <th>FAF</th>\n",
       "      <th>TUE</th>\n",
       "      <th>CALC</th>\n",
       "      <th>MTRANS</th>\n",
       "      <th>NObeyesdad</th>\n",
       "    </tr>\n",
       "  </thead>\n",
       "  <tbody>\n",
       "    <tr>\n",
       "      <th>0</th>\n",
       "      <td>Female</td>\n",
       "      <td>21.0</td>\n",
       "      <td>1.6</td>\n",
       "      <td>64.0</td>\n",
       "      <td>yes</td>\n",
       "      <td>no</td>\n",
       "      <td>2.0</td>\n",
       "      <td>3.0</td>\n",
       "      <td>Sometimes</td>\n",
       "      <td>no</td>\n",
       "      <td>2.0</td>\n",
       "      <td>no</td>\n",
       "      <td>0.0</td>\n",
       "      <td>1.0</td>\n",
       "      <td>no</td>\n",
       "      <td>Public_Transportation</td>\n",
       "      <td>Normal</td>\n",
       "    </tr>\n",
       "    <tr>\n",
       "      <th>1</th>\n",
       "      <td>Female</td>\n",
       "      <td>21.0</td>\n",
       "      <td>1.5</td>\n",
       "      <td>56.0</td>\n",
       "      <td>yes</td>\n",
       "      <td>no</td>\n",
       "      <td>3.0</td>\n",
       "      <td>3.0</td>\n",
       "      <td>Sometimes</td>\n",
       "      <td>yes</td>\n",
       "      <td>3.0</td>\n",
       "      <td>yes</td>\n",
       "      <td>3.0</td>\n",
       "      <td>0.0</td>\n",
       "      <td>Sometimes</td>\n",
       "      <td>Public_Transportation</td>\n",
       "      <td>Normal</td>\n",
       "    </tr>\n",
       "    <tr>\n",
       "      <th>2</th>\n",
       "      <td>Male</td>\n",
       "      <td>23.0</td>\n",
       "      <td>1.8</td>\n",
       "      <td>77.0</td>\n",
       "      <td>yes</td>\n",
       "      <td>no</td>\n",
       "      <td>2.0</td>\n",
       "      <td>3.0</td>\n",
       "      <td>Sometimes</td>\n",
       "      <td>no</td>\n",
       "      <td>2.0</td>\n",
       "      <td>no</td>\n",
       "      <td>2.0</td>\n",
       "      <td>1.0</td>\n",
       "      <td>Frequently</td>\n",
       "      <td>Public_Transportation</td>\n",
       "      <td>Normal</td>\n",
       "    </tr>\n",
       "    <tr>\n",
       "      <th>3</th>\n",
       "      <td>Male</td>\n",
       "      <td>27.0</td>\n",
       "      <td>1.8</td>\n",
       "      <td>87.0</td>\n",
       "      <td>no</td>\n",
       "      <td>no</td>\n",
       "      <td>3.0</td>\n",
       "      <td>3.0</td>\n",
       "      <td>Sometimes</td>\n",
       "      <td>no</td>\n",
       "      <td>2.0</td>\n",
       "      <td>no</td>\n",
       "      <td>2.0</td>\n",
       "      <td>0.0</td>\n",
       "      <td>Frequently</td>\n",
       "      <td>Walking</td>\n",
       "      <td>Overweight</td>\n",
       "    </tr>\n",
       "    <tr>\n",
       "      <th>4</th>\n",
       "      <td>Male</td>\n",
       "      <td>22.0</td>\n",
       "      <td>1.8</td>\n",
       "      <td>89.8</td>\n",
       "      <td>no</td>\n",
       "      <td>no</td>\n",
       "      <td>2.0</td>\n",
       "      <td>1.0</td>\n",
       "      <td>Sometimes</td>\n",
       "      <td>no</td>\n",
       "      <td>2.0</td>\n",
       "      <td>no</td>\n",
       "      <td>0.0</td>\n",
       "      <td>0.0</td>\n",
       "      <td>Sometimes</td>\n",
       "      <td>Public_Transportation</td>\n",
       "      <td>Overweight</td>\n",
       "    </tr>\n",
       "    <tr>\n",
       "      <th>5</th>\n",
       "      <td>Male</td>\n",
       "      <td>29.0</td>\n",
       "      <td>1.6</td>\n",
       "      <td>53.0</td>\n",
       "      <td>no</td>\n",
       "      <td>yes</td>\n",
       "      <td>2.0</td>\n",
       "      <td>3.0</td>\n",
       "      <td>Sometimes</td>\n",
       "      <td>no</td>\n",
       "      <td>2.0</td>\n",
       "      <td>no</td>\n",
       "      <td>0.0</td>\n",
       "      <td>0.0</td>\n",
       "      <td>Sometimes</td>\n",
       "      <td>Automobile</td>\n",
       "      <td>Normal</td>\n",
       "    </tr>\n",
       "    <tr>\n",
       "      <th>6</th>\n",
       "      <td>Female</td>\n",
       "      <td>23.0</td>\n",
       "      <td>1.5</td>\n",
       "      <td>55.0</td>\n",
       "      <td>yes</td>\n",
       "      <td>yes</td>\n",
       "      <td>3.0</td>\n",
       "      <td>3.0</td>\n",
       "      <td>Sometimes</td>\n",
       "      <td>no</td>\n",
       "      <td>2.0</td>\n",
       "      <td>no</td>\n",
       "      <td>1.0</td>\n",
       "      <td>0.0</td>\n",
       "      <td>Sometimes</td>\n",
       "      <td>Motorbike</td>\n",
       "      <td>Normal</td>\n",
       "    </tr>\n",
       "    <tr>\n",
       "      <th>7</th>\n",
       "      <td>Male</td>\n",
       "      <td>22.0</td>\n",
       "      <td>1.6</td>\n",
       "      <td>53.0</td>\n",
       "      <td>no</td>\n",
       "      <td>no</td>\n",
       "      <td>2.0</td>\n",
       "      <td>3.0</td>\n",
       "      <td>Sometimes</td>\n",
       "      <td>no</td>\n",
       "      <td>2.0</td>\n",
       "      <td>no</td>\n",
       "      <td>3.0</td>\n",
       "      <td>0.0</td>\n",
       "      <td>Sometimes</td>\n",
       "      <td>Public_Transportation</td>\n",
       "      <td>Normal</td>\n",
       "    </tr>\n",
       "    <tr>\n",
       "      <th>8</th>\n",
       "      <td>Male</td>\n",
       "      <td>24.0</td>\n",
       "      <td>1.8</td>\n",
       "      <td>64.0</td>\n",
       "      <td>yes</td>\n",
       "      <td>yes</td>\n",
       "      <td>3.0</td>\n",
       "      <td>3.0</td>\n",
       "      <td>Sometimes</td>\n",
       "      <td>no</td>\n",
       "      <td>2.0</td>\n",
       "      <td>no</td>\n",
       "      <td>1.0</td>\n",
       "      <td>1.0</td>\n",
       "      <td>Frequently</td>\n",
       "      <td>Public_Transportation</td>\n",
       "      <td>Normal</td>\n",
       "    </tr>\n",
       "    <tr>\n",
       "      <th>9</th>\n",
       "      <td>Male</td>\n",
       "      <td>22.0</td>\n",
       "      <td>1.7</td>\n",
       "      <td>68.0</td>\n",
       "      <td>yes</td>\n",
       "      <td>yes</td>\n",
       "      <td>2.0</td>\n",
       "      <td>3.0</td>\n",
       "      <td>Sometimes</td>\n",
       "      <td>no</td>\n",
       "      <td>2.0</td>\n",
       "      <td>no</td>\n",
       "      <td>1.0</td>\n",
       "      <td>1.0</td>\n",
       "      <td>no</td>\n",
       "      <td>Public_Transportation</td>\n",
       "      <td>Normal</td>\n",
       "    </tr>\n",
       "    <tr>\n",
       "      <th>10</th>\n",
       "      <td>Male</td>\n",
       "      <td>26.0</td>\n",
       "      <td>1.8</td>\n",
       "      <td>105.0</td>\n",
       "      <td>yes</td>\n",
       "      <td>yes</td>\n",
       "      <td>3.0</td>\n",
       "      <td>3.0</td>\n",
       "      <td>Frequently</td>\n",
       "      <td>no</td>\n",
       "      <td>3.0</td>\n",
       "      <td>no</td>\n",
       "      <td>2.0</td>\n",
       "      <td>2.0</td>\n",
       "      <td>Sometimes</td>\n",
       "      <td>Public_Transportation</td>\n",
       "      <td>Obese</td>\n",
       "    </tr>\n",
       "    <tr>\n",
       "      <th>11</th>\n",
       "      <td>Female</td>\n",
       "      <td>21.0</td>\n",
       "      <td>1.7</td>\n",
       "      <td>80.0</td>\n",
       "      <td>yes</td>\n",
       "      <td>yes</td>\n",
       "      <td>2.0</td>\n",
       "      <td>3.0</td>\n",
       "      <td>Frequently</td>\n",
       "      <td>no</td>\n",
       "      <td>2.0</td>\n",
       "      <td>yes</td>\n",
       "      <td>2.0</td>\n",
       "      <td>1.0</td>\n",
       "      <td>Sometimes</td>\n",
       "      <td>Public_Transportation</td>\n",
       "      <td>Overweight</td>\n",
       "    </tr>\n",
       "    <tr>\n",
       "      <th>12</th>\n",
       "      <td>Male</td>\n",
       "      <td>22.0</td>\n",
       "      <td>1.6</td>\n",
       "      <td>56.0</td>\n",
       "      <td>no</td>\n",
       "      <td>no</td>\n",
       "      <td>3.0</td>\n",
       "      <td>3.0</td>\n",
       "      <td>Sometimes</td>\n",
       "      <td>no</td>\n",
       "      <td>3.0</td>\n",
       "      <td>no</td>\n",
       "      <td>2.0</td>\n",
       "      <td>0.0</td>\n",
       "      <td>Sometimes</td>\n",
       "      <td>Public_Transportation</td>\n",
       "      <td>Normal</td>\n",
       "    </tr>\n",
       "    <tr>\n",
       "      <th>13</th>\n",
       "      <td>Male</td>\n",
       "      <td>41.0</td>\n",
       "      <td>1.8</td>\n",
       "      <td>99.0</td>\n",
       "      <td>no</td>\n",
       "      <td>yes</td>\n",
       "      <td>2.0</td>\n",
       "      <td>3.0</td>\n",
       "      <td>Sometimes</td>\n",
       "      <td>no</td>\n",
       "      <td>2.0</td>\n",
       "      <td>no</td>\n",
       "      <td>2.0</td>\n",
       "      <td>1.0</td>\n",
       "      <td>Frequently</td>\n",
       "      <td>Automobile</td>\n",
       "      <td>Obese</td>\n",
       "    </tr>\n",
       "    <tr>\n",
       "      <th>14</th>\n",
       "      <td>Male</td>\n",
       "      <td>23.0</td>\n",
       "      <td>1.8</td>\n",
       "      <td>60.0</td>\n",
       "      <td>yes</td>\n",
       "      <td>yes</td>\n",
       "      <td>3.0</td>\n",
       "      <td>1.0</td>\n",
       "      <td>Sometimes</td>\n",
       "      <td>no</td>\n",
       "      <td>1.0</td>\n",
       "      <td>no</td>\n",
       "      <td>1.0</td>\n",
       "      <td>1.0</td>\n",
       "      <td>Sometimes</td>\n",
       "      <td>Public_Transportation</td>\n",
       "      <td>Normal</td>\n",
       "    </tr>\n",
       "  </tbody>\n",
       "</table>\n",
       "</div>"
      ],
      "text/plain": [
       "    Gender   Age  Height  Weight family_history_with_overweight FAVC  FCVC  \\\n",
       "0   Female  21.0     1.6    64.0                            yes   no   2.0   \n",
       "1   Female  21.0     1.5    56.0                            yes   no   3.0   \n",
       "2     Male  23.0     1.8    77.0                            yes   no   2.0   \n",
       "3     Male  27.0     1.8    87.0                             no   no   3.0   \n",
       "4     Male  22.0     1.8    89.8                             no   no   2.0   \n",
       "5     Male  29.0     1.6    53.0                             no  yes   2.0   \n",
       "6   Female  23.0     1.5    55.0                            yes  yes   3.0   \n",
       "7     Male  22.0     1.6    53.0                             no   no   2.0   \n",
       "8     Male  24.0     1.8    64.0                            yes  yes   3.0   \n",
       "9     Male  22.0     1.7    68.0                            yes  yes   2.0   \n",
       "10    Male  26.0     1.8   105.0                            yes  yes   3.0   \n",
       "11  Female  21.0     1.7    80.0                            yes  yes   2.0   \n",
       "12    Male  22.0     1.6    56.0                             no   no   3.0   \n",
       "13    Male  41.0     1.8    99.0                             no  yes   2.0   \n",
       "14    Male  23.0     1.8    60.0                            yes  yes   3.0   \n",
       "\n",
       "    NCP        CAEC SMOKE  CH2O  SCC  FAF  TUE        CALC  \\\n",
       "0   3.0   Sometimes    no   2.0   no  0.0  1.0          no   \n",
       "1   3.0   Sometimes   yes   3.0  yes  3.0  0.0   Sometimes   \n",
       "2   3.0   Sometimes    no   2.0   no  2.0  1.0  Frequently   \n",
       "3   3.0   Sometimes    no   2.0   no  2.0  0.0  Frequently   \n",
       "4   1.0   Sometimes    no   2.0   no  0.0  0.0   Sometimes   \n",
       "5   3.0   Sometimes    no   2.0   no  0.0  0.0   Sometimes   \n",
       "6   3.0   Sometimes    no   2.0   no  1.0  0.0   Sometimes   \n",
       "7   3.0   Sometimes    no   2.0   no  3.0  0.0   Sometimes   \n",
       "8   3.0   Sometimes    no   2.0   no  1.0  1.0  Frequently   \n",
       "9   3.0   Sometimes    no   2.0   no  1.0  1.0          no   \n",
       "10  3.0  Frequently    no   3.0   no  2.0  2.0   Sometimes   \n",
       "11  3.0  Frequently    no   2.0  yes  2.0  1.0   Sometimes   \n",
       "12  3.0   Sometimes    no   3.0   no  2.0  0.0   Sometimes   \n",
       "13  3.0   Sometimes    no   2.0   no  2.0  1.0  Frequently   \n",
       "14  1.0   Sometimes    no   1.0   no  1.0  1.0   Sometimes   \n",
       "\n",
       "                   MTRANS  NObeyesdad  \n",
       "0   Public_Transportation      Normal  \n",
       "1   Public_Transportation      Normal  \n",
       "2   Public_Transportation      Normal  \n",
       "3                 Walking  Overweight  \n",
       "4   Public_Transportation  Overweight  \n",
       "5              Automobile      Normal  \n",
       "6               Motorbike      Normal  \n",
       "7   Public_Transportation      Normal  \n",
       "8   Public_Transportation      Normal  \n",
       "9   Public_Transportation      Normal  \n",
       "10  Public_Transportation       Obese  \n",
       "11  Public_Transportation  Overweight  \n",
       "12  Public_Transportation      Normal  \n",
       "13             Automobile       Obese  \n",
       "14  Public_Transportation      Normal  "
      ]
     },
     "execution_count": 4,
     "metadata": {},
     "output_type": "execute_result"
    }
   ],
   "source": [
    "#remove types from weight type\n",
    "obesity_rounded['NObeyesdad'] = obesity_rounded['NObeyesdad'].str.split('_').str[0]\n",
    "obesity_rounded['NObeyesdad'] = obesity_rounded['NObeyesdad'].str.split(' ').str[0]\n",
    "obesity_rounded['NObeyesdad'].replace(to_replace='Obesity',value='Obese',inplace=True)\n",
    "obesity_rounded.head(15)"
   ]
  },
  {
   "cell_type": "code",
   "execution_count": 5,
   "metadata": {},
   "outputs": [
    {
     "data": {
      "text/html": [
       "<div>\n",
       "<style scoped>\n",
       "    .dataframe tbody tr th:only-of-type {\n",
       "        vertical-align: middle;\n",
       "    }\n",
       "\n",
       "    .dataframe tbody tr th {\n",
       "        vertical-align: top;\n",
       "    }\n",
       "\n",
       "    .dataframe thead th {\n",
       "        text-align: right;\n",
       "    }\n",
       "</style>\n",
       "<table border=\"1\" class=\"dataframe\">\n",
       "  <thead>\n",
       "    <tr style=\"text-align: right;\">\n",
       "      <th></th>\n",
       "      <th>Gender</th>\n",
       "      <th>Age</th>\n",
       "      <th>Height</th>\n",
       "      <th>Weight</th>\n",
       "      <th>family_history_with_overweight</th>\n",
       "      <th>FAVC</th>\n",
       "      <th>FCVC</th>\n",
       "      <th>NCP</th>\n",
       "      <th>CAEC</th>\n",
       "      <th>SMOKE</th>\n",
       "      <th>CH2O</th>\n",
       "      <th>SCC</th>\n",
       "      <th>FAF</th>\n",
       "      <th>TUE</th>\n",
       "      <th>CALC</th>\n",
       "      <th>MTRANS</th>\n",
       "      <th>NObeyesdad</th>\n",
       "    </tr>\n",
       "  </thead>\n",
       "  <tbody>\n",
       "    <tr>\n",
       "      <th>0</th>\n",
       "      <td>Female</td>\n",
       "      <td>21.0</td>\n",
       "      <td>1.6</td>\n",
       "      <td>64.0</td>\n",
       "      <td>yes</td>\n",
       "      <td>no</td>\n",
       "      <td>Sometimes</td>\n",
       "      <td>More than three</td>\n",
       "      <td>Sometimes</td>\n",
       "      <td>no</td>\n",
       "      <td>Between 1 and 2 L</td>\n",
       "      <td>no</td>\n",
       "      <td>I do not have</td>\n",
       "      <td>3 to 5 hours</td>\n",
       "      <td>no</td>\n",
       "      <td>Public_Transportation</td>\n",
       "      <td>Normal</td>\n",
       "    </tr>\n",
       "    <tr>\n",
       "      <th>1</th>\n",
       "      <td>Female</td>\n",
       "      <td>21.0</td>\n",
       "      <td>1.5</td>\n",
       "      <td>56.0</td>\n",
       "      <td>yes</td>\n",
       "      <td>no</td>\n",
       "      <td>Always</td>\n",
       "      <td>More than three</td>\n",
       "      <td>Sometimes</td>\n",
       "      <td>yes</td>\n",
       "      <td>More than 2 L</td>\n",
       "      <td>yes</td>\n",
       "      <td>4 or 5 days</td>\n",
       "      <td>0 to 2 hours</td>\n",
       "      <td>Sometimes</td>\n",
       "      <td>Public_Transportation</td>\n",
       "      <td>Normal</td>\n",
       "    </tr>\n",
       "    <tr>\n",
       "      <th>2</th>\n",
       "      <td>Male</td>\n",
       "      <td>23.0</td>\n",
       "      <td>1.8</td>\n",
       "      <td>77.0</td>\n",
       "      <td>yes</td>\n",
       "      <td>no</td>\n",
       "      <td>Sometimes</td>\n",
       "      <td>More than three</td>\n",
       "      <td>Sometimes</td>\n",
       "      <td>no</td>\n",
       "      <td>Between 1 and 2 L</td>\n",
       "      <td>no</td>\n",
       "      <td>2 or 4 days</td>\n",
       "      <td>3 to 5 hours</td>\n",
       "      <td>Frequently</td>\n",
       "      <td>Public_Transportation</td>\n",
       "      <td>Normal</td>\n",
       "    </tr>\n",
       "    <tr>\n",
       "      <th>3</th>\n",
       "      <td>Male</td>\n",
       "      <td>27.0</td>\n",
       "      <td>1.8</td>\n",
       "      <td>87.0</td>\n",
       "      <td>no</td>\n",
       "      <td>no</td>\n",
       "      <td>Always</td>\n",
       "      <td>More than three</td>\n",
       "      <td>Sometimes</td>\n",
       "      <td>no</td>\n",
       "      <td>Between 1 and 2 L</td>\n",
       "      <td>no</td>\n",
       "      <td>2 or 4 days</td>\n",
       "      <td>0 to 2 hours</td>\n",
       "      <td>Frequently</td>\n",
       "      <td>Walking</td>\n",
       "      <td>Overweight</td>\n",
       "    </tr>\n",
       "    <tr>\n",
       "      <th>4</th>\n",
       "      <td>Male</td>\n",
       "      <td>22.0</td>\n",
       "      <td>1.8</td>\n",
       "      <td>89.8</td>\n",
       "      <td>no</td>\n",
       "      <td>no</td>\n",
       "      <td>Sometimes</td>\n",
       "      <td>Between 1 &amp; 2</td>\n",
       "      <td>Sometimes</td>\n",
       "      <td>no</td>\n",
       "      <td>Between 1 and 2 L</td>\n",
       "      <td>no</td>\n",
       "      <td>I do not have</td>\n",
       "      <td>0 to 2 hours</td>\n",
       "      <td>Sometimes</td>\n",
       "      <td>Public_Transportation</td>\n",
       "      <td>Overweight</td>\n",
       "    </tr>\n",
       "  </tbody>\n",
       "</table>\n",
       "</div>"
      ],
      "text/plain": [
       "   Gender   Age  Height  Weight family_history_with_overweight FAVC  \\\n",
       "0  Female  21.0     1.6    64.0                            yes   no   \n",
       "1  Female  21.0     1.5    56.0                            yes   no   \n",
       "2    Male  23.0     1.8    77.0                            yes   no   \n",
       "3    Male  27.0     1.8    87.0                             no   no   \n",
       "4    Male  22.0     1.8    89.8                             no   no   \n",
       "\n",
       "        FCVC              NCP       CAEC SMOKE               CH2O  SCC  \\\n",
       "0  Sometimes  More than three  Sometimes    no  Between 1 and 2 L   no   \n",
       "1     Always  More than three  Sometimes   yes      More than 2 L  yes   \n",
       "2  Sometimes  More than three  Sometimes    no  Between 1 and 2 L   no   \n",
       "3     Always  More than three  Sometimes    no  Between 1 and 2 L   no   \n",
       "4  Sometimes    Between 1 & 2  Sometimes    no  Between 1 and 2 L   no   \n",
       "\n",
       "             FAF           TUE        CALC                 MTRANS  NObeyesdad  \n",
       "0  I do not have  3 to 5 hours          no  Public_Transportation      Normal  \n",
       "1    4 or 5 days  0 to 2 hours   Sometimes  Public_Transportation      Normal  \n",
       "2    2 or 4 days  3 to 5 hours  Frequently  Public_Transportation      Normal  \n",
       "3    2 or 4 days  0 to 2 hours  Frequently                Walking  Overweight  \n",
       "4  I do not have  0 to 2 hours   Sometimes  Public_Transportation  Overweight  "
      ]
     },
     "execution_count": 5,
     "metadata": {},
     "output_type": "execute_result"
    }
   ],
   "source": [
    "#make categorical data consistent and easy to understand prior to encoding\n",
    "obesity_rounded['FCVC'].replace({1.0:'Never', 2.0:'Sometimes',3.0:'Always'},inplace=True)\n",
    "obesity_rounded['NCP'].replace({1.0:'Between 1 & 2', 2.0:'Three',3.0:'More than three'},inplace=True)\n",
    "obesity_rounded['CH2O'].replace({1.0:'Less than a liter', 2.0:'Between 1 and 2 L',3.0:'More than 2 L'},inplace=True)\n",
    "obesity_rounded['FAF'].replace({0.0:'I do not have', 1.0:'1 or 2 days', 2.0:'2 or 4 days',3.0:'4 or 5 days'},inplace=True)\n",
    "obesity_rounded['TUE'].replace({0.0:'0 to 2 hours', 1.0:'3 to 5 hours',2.0:'More than 5 hours'},inplace=True)\n",
    "obesity_rounded.head()"
   ]
  },
  {
   "cell_type": "code",
   "execution_count": 6,
   "metadata": {
    "scrolled": false
   },
   "outputs": [],
   "source": [
    "# obese_dummies = pd.get_dummies(obesity_rounded)\n",
    "# obese_dummies.head()"
   ]
  },
  {
   "cell_type": "code",
   "execution_count": 7,
   "metadata": {},
   "outputs": [],
   "source": [
    "# obese_dummies.drop(columns=['Gender_Male','family_history_with_overweight_no',])"
   ]
  },
  {
   "cell_type": "code",
   "execution_count": 8,
   "metadata": {},
   "outputs": [
    {
     "data": {
      "text/html": [
       "<div>\n",
       "<style scoped>\n",
       "    .dataframe tbody tr th:only-of-type {\n",
       "        vertical-align: middle;\n",
       "    }\n",
       "\n",
       "    .dataframe tbody tr th {\n",
       "        vertical-align: top;\n",
       "    }\n",
       "\n",
       "    .dataframe thead th {\n",
       "        text-align: right;\n",
       "    }\n",
       "</style>\n",
       "<table border=\"1\" class=\"dataframe\">\n",
       "  <thead>\n",
       "    <tr style=\"text-align: right;\">\n",
       "      <th></th>\n",
       "      <th>Age</th>\n",
       "      <th>Height</th>\n",
       "      <th>Weight</th>\n",
       "      <th>FCVC</th>\n",
       "      <th>NCP</th>\n",
       "      <th>CAEC</th>\n",
       "      <th>CH2O</th>\n",
       "      <th>FAF</th>\n",
       "      <th>TUE</th>\n",
       "      <th>CALC</th>\n",
       "      <th>...</th>\n",
       "      <th>FAVC_yes</th>\n",
       "      <th>SMOKE_no</th>\n",
       "      <th>SMOKE_yes</th>\n",
       "      <th>SCC_no</th>\n",
       "      <th>SCC_yes</th>\n",
       "      <th>MTRANS_Automobile</th>\n",
       "      <th>MTRANS_Bike</th>\n",
       "      <th>MTRANS_Motorbike</th>\n",
       "      <th>MTRANS_Public_Transportation</th>\n",
       "      <th>MTRANS_Walking</th>\n",
       "    </tr>\n",
       "  </thead>\n",
       "  <tbody>\n",
       "    <tr>\n",
       "      <th>0</th>\n",
       "      <td>21.0</td>\n",
       "      <td>1.6</td>\n",
       "      <td>64.0</td>\n",
       "      <td>Sometimes</td>\n",
       "      <td>More than three</td>\n",
       "      <td>Sometimes</td>\n",
       "      <td>Between 1 and 2 L</td>\n",
       "      <td>I do not have</td>\n",
       "      <td>3 to 5 hours</td>\n",
       "      <td>no</td>\n",
       "      <td>...</td>\n",
       "      <td>0</td>\n",
       "      <td>1</td>\n",
       "      <td>0</td>\n",
       "      <td>1</td>\n",
       "      <td>0</td>\n",
       "      <td>0</td>\n",
       "      <td>0</td>\n",
       "      <td>0</td>\n",
       "      <td>1</td>\n",
       "      <td>0</td>\n",
       "    </tr>\n",
       "    <tr>\n",
       "      <th>1</th>\n",
       "      <td>21.0</td>\n",
       "      <td>1.5</td>\n",
       "      <td>56.0</td>\n",
       "      <td>Always</td>\n",
       "      <td>More than three</td>\n",
       "      <td>Sometimes</td>\n",
       "      <td>More than 2 L</td>\n",
       "      <td>4 or 5 days</td>\n",
       "      <td>0 to 2 hours</td>\n",
       "      <td>Sometimes</td>\n",
       "      <td>...</td>\n",
       "      <td>0</td>\n",
       "      <td>0</td>\n",
       "      <td>1</td>\n",
       "      <td>0</td>\n",
       "      <td>1</td>\n",
       "      <td>0</td>\n",
       "      <td>0</td>\n",
       "      <td>0</td>\n",
       "      <td>1</td>\n",
       "      <td>0</td>\n",
       "    </tr>\n",
       "    <tr>\n",
       "      <th>2</th>\n",
       "      <td>23.0</td>\n",
       "      <td>1.8</td>\n",
       "      <td>77.0</td>\n",
       "      <td>Sometimes</td>\n",
       "      <td>More than three</td>\n",
       "      <td>Sometimes</td>\n",
       "      <td>Between 1 and 2 L</td>\n",
       "      <td>2 or 4 days</td>\n",
       "      <td>3 to 5 hours</td>\n",
       "      <td>Frequently</td>\n",
       "      <td>...</td>\n",
       "      <td>0</td>\n",
       "      <td>1</td>\n",
       "      <td>0</td>\n",
       "      <td>1</td>\n",
       "      <td>0</td>\n",
       "      <td>0</td>\n",
       "      <td>0</td>\n",
       "      <td>0</td>\n",
       "      <td>1</td>\n",
       "      <td>0</td>\n",
       "    </tr>\n",
       "    <tr>\n",
       "      <th>3</th>\n",
       "      <td>27.0</td>\n",
       "      <td>1.8</td>\n",
       "      <td>87.0</td>\n",
       "      <td>Always</td>\n",
       "      <td>More than three</td>\n",
       "      <td>Sometimes</td>\n",
       "      <td>Between 1 and 2 L</td>\n",
       "      <td>2 or 4 days</td>\n",
       "      <td>0 to 2 hours</td>\n",
       "      <td>Frequently</td>\n",
       "      <td>...</td>\n",
       "      <td>0</td>\n",
       "      <td>1</td>\n",
       "      <td>0</td>\n",
       "      <td>1</td>\n",
       "      <td>0</td>\n",
       "      <td>0</td>\n",
       "      <td>0</td>\n",
       "      <td>0</td>\n",
       "      <td>0</td>\n",
       "      <td>1</td>\n",
       "    </tr>\n",
       "    <tr>\n",
       "      <th>4</th>\n",
       "      <td>22.0</td>\n",
       "      <td>1.8</td>\n",
       "      <td>89.8</td>\n",
       "      <td>Sometimes</td>\n",
       "      <td>Between 1 &amp; 2</td>\n",
       "      <td>Sometimes</td>\n",
       "      <td>Between 1 and 2 L</td>\n",
       "      <td>I do not have</td>\n",
       "      <td>0 to 2 hours</td>\n",
       "      <td>Sometimes</td>\n",
       "      <td>...</td>\n",
       "      <td>0</td>\n",
       "      <td>1</td>\n",
       "      <td>0</td>\n",
       "      <td>1</td>\n",
       "      <td>0</td>\n",
       "      <td>0</td>\n",
       "      <td>0</td>\n",
       "      <td>0</td>\n",
       "      <td>1</td>\n",
       "      <td>0</td>\n",
       "    </tr>\n",
       "  </tbody>\n",
       "</table>\n",
       "<p>5 rows × 26 columns</p>\n",
       "</div>"
      ],
      "text/plain": [
       "    Age  Height  Weight       FCVC              NCP       CAEC  \\\n",
       "0  21.0     1.6    64.0  Sometimes  More than three  Sometimes   \n",
       "1  21.0     1.5    56.0     Always  More than three  Sometimes   \n",
       "2  23.0     1.8    77.0  Sometimes  More than three  Sometimes   \n",
       "3  27.0     1.8    87.0     Always  More than three  Sometimes   \n",
       "4  22.0     1.8    89.8  Sometimes    Between 1 & 2  Sometimes   \n",
       "\n",
       "                CH2O            FAF           TUE        CALC  ... FAVC_yes  \\\n",
       "0  Between 1 and 2 L  I do not have  3 to 5 hours          no  ...        0   \n",
       "1      More than 2 L    4 or 5 days  0 to 2 hours   Sometimes  ...        0   \n",
       "2  Between 1 and 2 L    2 or 4 days  3 to 5 hours  Frequently  ...        0   \n",
       "3  Between 1 and 2 L    2 or 4 days  0 to 2 hours  Frequently  ...        0   \n",
       "4  Between 1 and 2 L  I do not have  0 to 2 hours   Sometimes  ...        0   \n",
       "\n",
       "   SMOKE_no  SMOKE_yes  SCC_no  SCC_yes  MTRANS_Automobile  MTRANS_Bike  \\\n",
       "0         1          0       1        0                  0            0   \n",
       "1         0          1       0        1                  0            0   \n",
       "2         1          0       1        0                  0            0   \n",
       "3         1          0       1        0                  0            0   \n",
       "4         1          0       1        0                  0            0   \n",
       "\n",
       "   MTRANS_Motorbike  MTRANS_Public_Transportation  MTRANS_Walking  \n",
       "0                 0                             1               0  \n",
       "1                 0                             1               0  \n",
       "2                 0                             1               0  \n",
       "3                 0                             0               1  \n",
       "4                 0                             1               0  \n",
       "\n",
       "[5 rows x 26 columns]"
      ]
     },
     "execution_count": 8,
     "metadata": {},
     "output_type": "execute_result"
    }
   ],
   "source": [
    "# one hot encode the variables where order/weight is not important\n",
    "# 'Gender','family_history_with_overweight','FAVC','SMOKE','SCC','MTRANS'\n",
    "obese_one_hot = pd.get_dummies(data=obesity_rounded, columns=['Gender','family_history_with_overweight','FAVC','SMOKE','SCC','MTRANS'])   \n",
    "obese_one_hot.head()"
   ]
  },
  {
   "cell_type": "code",
   "execution_count": 9,
   "metadata": {},
   "outputs": [
    {
     "name": "stdout",
     "output_type": "stream",
     "text": [
      "<class 'pandas.core.frame.DataFrame'>\n",
      "RangeIndex: 2111 entries, 0 to 2110\n",
      "Data columns (total 26 columns):\n",
      " #   Column                              Non-Null Count  Dtype  \n",
      "---  ------                              --------------  -----  \n",
      " 0   Age                                 2111 non-null   float64\n",
      " 1   Height                              2111 non-null   float64\n",
      " 2   Weight                              2111 non-null   float64\n",
      " 3   FCVC                                2111 non-null   object \n",
      " 4   NCP                                 2111 non-null   object \n",
      " 5   CAEC                                2111 non-null   object \n",
      " 6   CH2O                                2111 non-null   object \n",
      " 7   FAF                                 2111 non-null   object \n",
      " 8   TUE                                 2111 non-null   object \n",
      " 9   CALC                                2111 non-null   object \n",
      " 10  NObeyesdad                          2111 non-null   object \n",
      " 11  Gender_Female                       2111 non-null   uint8  \n",
      " 12  Gender_Male                         2111 non-null   uint8  \n",
      " 13  family_history_with_overweight_no   2111 non-null   uint8  \n",
      " 14  family_history_with_overweight_yes  2111 non-null   uint8  \n",
      " 15  FAVC_no                             2111 non-null   uint8  \n",
      " 16  FAVC_yes                            2111 non-null   uint8  \n",
      " 17  SMOKE_no                            2111 non-null   uint8  \n",
      " 18  SMOKE_yes                           2111 non-null   uint8  \n",
      " 19  SCC_no                              2111 non-null   uint8  \n",
      " 20  SCC_yes                             2111 non-null   uint8  \n",
      " 21  MTRANS_Automobile                   2111 non-null   uint8  \n",
      " 22  MTRANS_Bike                         2111 non-null   uint8  \n",
      " 23  MTRANS_Motorbike                    2111 non-null   uint8  \n",
      " 24  MTRANS_Public_Transportation        2111 non-null   uint8  \n",
      " 25  MTRANS_Walking                      2111 non-null   uint8  \n",
      "dtypes: float64(3), object(8), uint8(15)\n",
      "memory usage: 212.5+ KB\n"
     ]
    }
   ],
   "source": [
    "obese_one_hot.info()"
   ]
  },
  {
   "cell_type": "code",
   "execution_count": null,
   "metadata": {},
   "outputs": [],
   "source": []
  },
  {
   "cell_type": "code",
   "execution_count": 10,
   "metadata": {
    "scrolled": false
   },
   "outputs": [
    {
     "data": {
      "text/html": [
       "<div>\n",
       "<style scoped>\n",
       "    .dataframe tbody tr th:only-of-type {\n",
       "        vertical-align: middle;\n",
       "    }\n",
       "\n",
       "    .dataframe tbody tr th {\n",
       "        vertical-align: top;\n",
       "    }\n",
       "\n",
       "    .dataframe thead th {\n",
       "        text-align: right;\n",
       "    }\n",
       "</style>\n",
       "<table border=\"1\" class=\"dataframe\">\n",
       "  <thead>\n",
       "    <tr style=\"text-align: right;\">\n",
       "      <th></th>\n",
       "      <th>Age</th>\n",
       "      <th>Height</th>\n",
       "      <th>Weight</th>\n",
       "      <th>FCVC</th>\n",
       "      <th>NCP</th>\n",
       "      <th>CAEC</th>\n",
       "      <th>CH2O</th>\n",
       "      <th>FAF</th>\n",
       "      <th>TUE</th>\n",
       "      <th>CALC</th>\n",
       "      <th>...</th>\n",
       "      <th>FAVC_yes</th>\n",
       "      <th>SMOKE_no</th>\n",
       "      <th>SMOKE_yes</th>\n",
       "      <th>SCC_no</th>\n",
       "      <th>SCC_yes</th>\n",
       "      <th>MTRANS_Automobile</th>\n",
       "      <th>MTRANS_Bike</th>\n",
       "      <th>MTRANS_Motorbike</th>\n",
       "      <th>MTRANS_Public_Transportation</th>\n",
       "      <th>MTRANS_Walking</th>\n",
       "    </tr>\n",
       "  </thead>\n",
       "  <tbody>\n",
       "    <tr>\n",
       "      <th>0</th>\n",
       "      <td>21.0</td>\n",
       "      <td>1.6</td>\n",
       "      <td>64.0</td>\n",
       "      <td>Sometimes</td>\n",
       "      <td>More than three</td>\n",
       "      <td>Sometimes</td>\n",
       "      <td>Between 1 and 2 L</td>\n",
       "      <td>I do not have</td>\n",
       "      <td>3 to 5 hours</td>\n",
       "      <td>no</td>\n",
       "      <td>...</td>\n",
       "      <td>0</td>\n",
       "      <td>1</td>\n",
       "      <td>0</td>\n",
       "      <td>1</td>\n",
       "      <td>0</td>\n",
       "      <td>0</td>\n",
       "      <td>0</td>\n",
       "      <td>0</td>\n",
       "      <td>1</td>\n",
       "      <td>0</td>\n",
       "    </tr>\n",
       "    <tr>\n",
       "      <th>1</th>\n",
       "      <td>21.0</td>\n",
       "      <td>1.5</td>\n",
       "      <td>56.0</td>\n",
       "      <td>Always</td>\n",
       "      <td>More than three</td>\n",
       "      <td>Sometimes</td>\n",
       "      <td>More than 2 L</td>\n",
       "      <td>4 or 5 days</td>\n",
       "      <td>0 to 2 hours</td>\n",
       "      <td>Sometimes</td>\n",
       "      <td>...</td>\n",
       "      <td>0</td>\n",
       "      <td>0</td>\n",
       "      <td>1</td>\n",
       "      <td>0</td>\n",
       "      <td>1</td>\n",
       "      <td>0</td>\n",
       "      <td>0</td>\n",
       "      <td>0</td>\n",
       "      <td>1</td>\n",
       "      <td>0</td>\n",
       "    </tr>\n",
       "    <tr>\n",
       "      <th>2</th>\n",
       "      <td>23.0</td>\n",
       "      <td>1.8</td>\n",
       "      <td>77.0</td>\n",
       "      <td>Sometimes</td>\n",
       "      <td>More than three</td>\n",
       "      <td>Sometimes</td>\n",
       "      <td>Between 1 and 2 L</td>\n",
       "      <td>2 or 4 days</td>\n",
       "      <td>3 to 5 hours</td>\n",
       "      <td>Frequently</td>\n",
       "      <td>...</td>\n",
       "      <td>0</td>\n",
       "      <td>1</td>\n",
       "      <td>0</td>\n",
       "      <td>1</td>\n",
       "      <td>0</td>\n",
       "      <td>0</td>\n",
       "      <td>0</td>\n",
       "      <td>0</td>\n",
       "      <td>1</td>\n",
       "      <td>0</td>\n",
       "    </tr>\n",
       "    <tr>\n",
       "      <th>3</th>\n",
       "      <td>27.0</td>\n",
       "      <td>1.8</td>\n",
       "      <td>87.0</td>\n",
       "      <td>Always</td>\n",
       "      <td>More than three</td>\n",
       "      <td>Sometimes</td>\n",
       "      <td>Between 1 and 2 L</td>\n",
       "      <td>2 or 4 days</td>\n",
       "      <td>0 to 2 hours</td>\n",
       "      <td>Frequently</td>\n",
       "      <td>...</td>\n",
       "      <td>0</td>\n",
       "      <td>1</td>\n",
       "      <td>0</td>\n",
       "      <td>1</td>\n",
       "      <td>0</td>\n",
       "      <td>0</td>\n",
       "      <td>0</td>\n",
       "      <td>0</td>\n",
       "      <td>0</td>\n",
       "      <td>1</td>\n",
       "    </tr>\n",
       "    <tr>\n",
       "      <th>4</th>\n",
       "      <td>22.0</td>\n",
       "      <td>1.8</td>\n",
       "      <td>89.8</td>\n",
       "      <td>Sometimes</td>\n",
       "      <td>Between 1 &amp; 2</td>\n",
       "      <td>Sometimes</td>\n",
       "      <td>Between 1 and 2 L</td>\n",
       "      <td>I do not have</td>\n",
       "      <td>0 to 2 hours</td>\n",
       "      <td>Sometimes</td>\n",
       "      <td>...</td>\n",
       "      <td>0</td>\n",
       "      <td>1</td>\n",
       "      <td>0</td>\n",
       "      <td>1</td>\n",
       "      <td>0</td>\n",
       "      <td>0</td>\n",
       "      <td>0</td>\n",
       "      <td>0</td>\n",
       "      <td>1</td>\n",
       "      <td>0</td>\n",
       "    </tr>\n",
       "  </tbody>\n",
       "</table>\n",
       "<p>5 rows × 26 columns</p>\n",
       "</div>"
      ],
      "text/plain": [
       "    Age  Height  Weight       FCVC              NCP       CAEC  \\\n",
       "0  21.0     1.6    64.0  Sometimes  More than three  Sometimes   \n",
       "1  21.0     1.5    56.0     Always  More than three  Sometimes   \n",
       "2  23.0     1.8    77.0  Sometimes  More than three  Sometimes   \n",
       "3  27.0     1.8    87.0     Always  More than three  Sometimes   \n",
       "4  22.0     1.8    89.8  Sometimes    Between 1 & 2  Sometimes   \n",
       "\n",
       "                CH2O            FAF           TUE        CALC  ... FAVC_yes  \\\n",
       "0  Between 1 and 2 L  I do not have  3 to 5 hours          no  ...        0   \n",
       "1      More than 2 L    4 or 5 days  0 to 2 hours   Sometimes  ...        0   \n",
       "2  Between 1 and 2 L    2 or 4 days  3 to 5 hours  Frequently  ...        0   \n",
       "3  Between 1 and 2 L    2 or 4 days  0 to 2 hours  Frequently  ...        0   \n",
       "4  Between 1 and 2 L  I do not have  0 to 2 hours   Sometimes  ...        0   \n",
       "\n",
       "   SMOKE_no  SMOKE_yes  SCC_no  SCC_yes  MTRANS_Automobile  MTRANS_Bike  \\\n",
       "0         1          0       1        0                  0            0   \n",
       "1         0          1       0        1                  0            0   \n",
       "2         1          0       1        0                  0            0   \n",
       "3         1          0       1        0                  0            0   \n",
       "4         1          0       1        0                  0            0   \n",
       "\n",
       "   MTRANS_Motorbike  MTRANS_Public_Transportation  MTRANS_Walking  \n",
       "0                 0                             1               0  \n",
       "1                 0                             1               0  \n",
       "2                 0                             1               0  \n",
       "3                 0                             0               1  \n",
       "4                 0                             1               0  \n",
       "\n",
       "[5 rows x 26 columns]"
      ]
     },
     "execution_count": 10,
     "metadata": {},
     "output_type": "execute_result"
    }
   ],
   "source": [
    "obesity_numeric = obese_one_hot\n",
    "obesity_numeric.head()"
   ]
  },
  {
   "cell_type": "code",
   "execution_count": null,
   "metadata": {},
   "outputs": [],
   "source": []
  },
  {
   "cell_type": "code",
   "execution_count": 11,
   "metadata": {},
   "outputs": [],
   "source": [
    "# this is manually doing label encoding\n",
    "# obesity_numeric['Gender'].replace({'Female':0,'Male':1},inplace=True)\n",
    "# obesity_numeric['family_history_with_overweight'].replace({'no':0,'yes':1},inplace=True)\n",
    "# obesity_numeric['FAVC'].replace({'no':0,'yes':1},inplace=True)\n",
    "obesity_numeric['FCVC'].replace({'Never':0,'Sometimes':1,'Always':2},inplace=True)\n",
    "obesity_numeric['NCP'].replace({'Between 1 & 2':0,'Three':1,'More than three':2},inplace=True)\n",
    "obesity_numeric['CAEC'].replace({'no':0,'Sometimes':1,'Frequently':2,'Always':3},inplace=True)\n",
    "# obesity_numeric['SMOKE'].replace({'no':0,'yes':1},inplace=True)\n",
    "obesity_numeric['CH2O'].replace({'Less than a liter':0, 'Between 1 and 2 L':1,'More than 2 L':2},inplace=True)\n",
    "# obesity_numeric['SCC'].replace({'no':0,'yes':1},inplace=True)\n",
    "obesity_numeric['FAF'].replace({'I do not have':0, '1 or 2 days':1, '2 or 4 days':2,'4 or 5 days':3},inplace=True)\n",
    "obesity_numeric['TUE'].replace({'0 to 2 hours':0, '3 to 5 hours':1,'More than 5 hours':2},inplace=True)\n",
    "obesity_numeric['CALC'].replace({'no':0,'Sometimes':1,'Frequently':2,'Always':3},inplace=True)\n",
    "# obesity_numeric['MTRANS'].replace({'Automobile':0,'Motorbike':1,'Bike':2,'Public_Transportation':3,'Walking':4},inplace=True)\n",
    "obesity_numeric['NObeyesdad'].replace({'Insufficient':0,'Normal':1,'Overweight':2,'Obese':3},inplace=True)"
   ]
  },
  {
   "cell_type": "code",
   "execution_count": 12,
   "metadata": {},
   "outputs": [],
   "source": [
    "numbers = obesity_numeric[['Age','Height','Weight','FCVC','NCP','CAEC','CH2O','FAF','TUE','CALC','NObeyesdad']]"
   ]
  },
  {
   "cell_type": "code",
   "execution_count": 18,
   "metadata": {},
   "outputs": [
    {
     "data": {
      "image/png": "[encoded data removed]",
      "text/plain": [
       "<Figure size 1152x576 with 2 Axes>"
      ]
     },
     "metadata": {
      "needs_background": "light"
     },
     "output_type": "display_data"
    }
   ],
   "source": [
    "corrMatrix = numbers.corr()\n",
    "import seaborn as sn\n",
    "import matplotlib.pyplot as plt\n",
    "from matplotlib.pyplot import figure\n",
    "figure(figsize = (16,8))\n",
    "sn.heatmap(corrMatrix,annot=True)\n",
    "plt.show()"
   ]
  },
  {
   "cell_type": "code",
   "execution_count": 18,
   "metadata": {
    "scrolled": false
   },
   "outputs": [],
   "source": [
    "obesity_encoded = obesity_numeric.copy()\n",
    "obesity_encoded = pd.DataFrame(obesity_numeric, columns=['Age','Height','Weight','FCVC','NCP','CAEC','CH2O','FAF','TUE',\n",
    "                                                        'CALC','Gender_Female','Gender_Male','family_history_with_overweight_no',\n",
    "                                                        'family_history_with_overweight_yes','FAVC_no','FAVC_yes','SMOKE_no',\n",
    "                                                        'SMOKE_yes','SCC_no','SCC_yes','MTRANS_Automobile','MTRANS_Bike',\n",
    "                                                        'MTRANS_Motorbike','MTRANS_Public_Transportation','MTRANS_Walking',\n",
    "                                                        'NObeyesdad'])"
   ]
  },
  {
   "cell_type": "markdown",
   "metadata": {},
   "source": [
    "## BEGIN ML (consider feature scaling)"
   ]
  },
  {
   "cell_type": "code",
   "execution_count": 25,
   "metadata": {
    "collapsed": true
   },
   "outputs": [
    {
     "name": "stdout",
     "output_type": "stream",
     "text": [
      "<class 'pandas.core.frame.DataFrame'>\n",
      "RangeIndex: 2111 entries, 0 to 2110\n",
      "Data columns (total 26 columns):\n",
      " #   Column                              Non-Null Count  Dtype  \n",
      "---  ------                              --------------  -----  \n",
      " 0   Age                                 2111 non-null   float64\n",
      " 1   Height                              2111 non-null   float64\n",
      " 2   Weight                              2111 non-null   float64\n",
      " 3   FCVC                                2111 non-null   int64  \n",
      " 4   NCP                                 2111 non-null   float64\n",
      " 5   CAEC                                2111 non-null   int64  \n",
      " 6   CH2O                                2111 non-null   int64  \n",
      " 7   FAF                                 2111 non-null   int64  \n",
      " 8   TUE                                 2111 non-null   int64  \n",
      " 9   CALC                                2111 non-null   int64  \n",
      " 10  Gender_Female                       2111 non-null   uint8  \n",
      " 11  Gender_Male                         2111 non-null   uint8  \n",
      " 12  family_history_with_overweight_no   2111 non-null   uint8  \n",
      " 13  family_history_with_overweight_yes  2111 non-null   uint8  \n",
      " 14  FAVC_no                             2111 non-null   uint8  \n",
      " 15  FAVC_yes                            2111 non-null   uint8  \n",
      " 16  SMOKE_no                            2111 non-null   uint8  \n",
      " 17  SMOKE_yes                           2111 non-null   uint8  \n",
      " 18  SCC_no                              2111 non-null   uint8  \n",
      " 19  SCC_yes                             2111 non-null   uint8  \n",
      " 20  MTRANS_Automobile                   2111 non-null   uint8  \n",
      " 21  MTRANS_Bike                         2111 non-null   uint8  \n",
      " 22  MTRANS_Motorbike                    2111 non-null   uint8  \n",
      " 23  MTRANS_Public_Transportation        2111 non-null   uint8  \n",
      " 24  MTRANS_Walking                      2111 non-null   uint8  \n",
      " 25  NObeyesdad                          2111 non-null   int64  \n",
      "dtypes: float64(4), int64(7), uint8(15)\n",
      "memory usage: 212.5 KB\n"
     ]
    }
   ],
   "source": [
    "obesity_encoded.info();"
   ]
  },
  {
   "cell_type": "code",
   "execution_count": 19,
   "metadata": {},
   "outputs": [
    {
     "name": "stdout",
     "output_type": "stream",
     "text": [
      "(2111, 25) (2111,)\n"
     ]
    }
   ],
   "source": [
    "# Assign X (data) and y (target)\n",
    "X = obesity_encoded.iloc[:,0:25]\n",
    "y = obesity_numeric[\"NObeyesdad\"]\n",
    "print(X.shape, y.shape)"
   ]
  },
  {
   "cell_type": "code",
   "execution_count": 20,
   "metadata": {},
   "outputs": [],
   "source": [
    "# Split the data into training and testing\n",
    "\n",
    "from sklearn.model_selection import train_test_split\n",
    "\n",
    "X_train, X_test, y_train, y_test = train_test_split(X, y, random_state=42)"
   ]
  },
  {
   "cell_type": "markdown",
   "metadata": {},
   "source": [
    "# Classification\n",
    "## scale the three numeric variables using the standard scaler"
   ]
  },
  {
   "cell_type": "code",
   "execution_count": 26,
   "metadata": {},
   "outputs": [],
   "source": [
    "# from sklearn.preprocessing import StandardScaler\n",
    "# from sklearn.pipeline import Pipeline\n",
    "# from sklearn.compose import ColumnTransformer\n",
    "\n",
    "# Scale_features = ['Age', 'Height', 'Weight']\n",
    "# Scale_transformer = Pipeline(steps=[\n",
    "#     ('Scaling', StandardScaler())\n",
    "# ])\n",
    "\n",
    "# Preprocessor = ColumnTransformer(transformers=[\n",
    "#     ('Scale', Scale_transformer, Scale_features)\n",
    "# ], remainder = 'passthrough')\n",
    "\n",
    "# clf = Pipeline(steps=[('preprocessor', Preprocessor)])"
   ]
  },
  {
   "cell_type": "code",
   "execution_count": 21,
   "metadata": {},
   "outputs": [],
   "source": [
    "from sklearn.preprocessing import StandardScaler\n",
    "\n",
    "# X_train\n",
    "X_train_scaled = X_train.copy()\n",
    "col_names = ['Age','Height','Weight']\n",
    "features_train = X_train_scaled[col_names]\n",
    "scaler = StandardScaler().fit(features_train.values)\n",
    "features_train = scaler.transform(features_train.values)\n",
    "X_train_scaled[col_names] = features_train\n",
    "X_train_scaled;\n",
    "\n",
    "#X_test\n",
    "X_test_scaled = X_test.copy()\n",
    "features_test = X_test_scaled[col_names]\n",
    "scaler = StandardScaler().fit(features_test.values)\n",
    "features_test = scaler.transform(features_test.values)\n",
    "X_test_scaled[col_names] = features_test\n",
    "X_test_scaled;"
   ]
  },
  {
   "cell_type": "markdown",
   "metadata": {},
   "source": [
    "## Logistic"
   ]
  },
  {
   "cell_type": "code",
   "execution_count": 29,
   "metadata": {},
   "outputs": [
    {
     "data": {
      "text/plain": [
       "LogisticRegression(max_iter=10000)"
      ]
     },
     "execution_count": 29,
     "metadata": {},
     "output_type": "execute_result"
    }
   ],
   "source": [
    "from sklearn.linear_model import LogisticRegression\n",
    "classifier = LogisticRegression(max_iter=10000)\n",
    "classifier"
   ]
  },
  {
   "cell_type": "code",
   "execution_count": 30,
   "metadata": {},
   "outputs": [
    {
     "data": {
      "text/plain": [
       "LogisticRegression(max_iter=10000)"
      ]
     },
     "execution_count": 30,
     "metadata": {},
     "output_type": "execute_result"
    }
   ],
   "source": [
    "classifier.fit(X_train_scaled, y_train)"
   ]
  },
  {
   "cell_type": "code",
   "execution_count": 31,
   "metadata": {
    "scrolled": true
   },
   "outputs": [
    {
     "name": "stdout",
     "output_type": "stream",
     "text": [
      "Training Data Score: 0.9336702463676564\n",
      "Testing Data Score: 0.9185606060606061\n"
     ]
    }
   ],
   "source": [
    "print(f\"Training Data Score: {classifier.score(X_train_scaled, y_train)}\")\n",
    "print(f\"Testing Data Score: {classifier.score(X_test_scaled, y_test)}\")"
   ]
  },
  {
   "cell_type": "code",
   "execution_count": 32,
   "metadata": {},
   "outputs": [
    {
     "name": "stdout",
     "output_type": "stream",
     "text": [
      "First 10 Predictions:   [3 3 3 3 3 3 3 3 3 3]\n",
      "First 10 Actual labels: [0, 3, 0, 0, 1, 0, 3, 2, 3, 0]\n"
     ]
    }
   ],
   "source": [
    "predictions = classifier.predict(X_test)\n",
    "print(f\"First 10 Predictions:   {predictions[:10]}\")\n",
    "print(f\"First 10 Actual labels: {y_test[:10].tolist()}\")"
   ]
  },
  {
   "cell_type": "code",
   "execution_count": 34,
   "metadata": {
    "scrolled": false
   },
   "outputs": [
    {
     "name": "stdout",
     "output_type": "stream",
     "text": [
      "              precision    recall  f1-score   support\n",
      "\n",
      "           0       0.83      0.99      0.90        68\n",
      "           1       0.91      0.64      0.75        78\n",
      "           2       0.87      0.93      0.90       134\n",
      "           3       0.98      0.98      0.98       248\n",
      "\n",
      "    accuracy                           0.92       528\n",
      "   macro avg       0.90      0.88      0.88       528\n",
      "weighted avg       0.92      0.92      0.92       528\n",
      "\n"
     ]
    }
   ],
   "source": [
    "target_names = ['0', '1', '2', '3']\n",
    "\n",
    "from sklearn.metrics import classification_report\n",
    "predictions = classifier.predict(X_test_scaled)\n",
    "print(classification_report(y_test, predictions,\n",
    "                            target_names=target_names))"
   ]
  },
  {
   "cell_type": "code",
   "execution_count": null,
   "metadata": {},
   "outputs": [],
   "source": []
  },
  {
   "cell_type": "code",
   "execution_count": 49,
   "metadata": {},
   "outputs": [
    {
     "data": {
      "text/plain": [
       "<matplotlib.axes._subplots.AxesSubplot at 0x1497452abe0>"
      ]
     },
     "execution_count": 49,
     "metadata": {},
     "output_type": "execute_result"
    },
    {
     "data": {
      "image/png": "[encoded data removed]",
      "text/plain": [
       "<Figure size 432x288 with 2 Axes>"
      ]
     },
     "metadata": {
      "needs_background": "light"
     },
     "output_type": "display_data"
    }
   ],
   "source": [
    "from sklearn import metrics\n",
    "cfmatrix = metrics.confusion_matrix(y_true=y_test, y_pred=classifier.predict(X_test_scaled))\n",
    "import seaborn as sns\n",
    "sns.heatmap(cfmatrix/y_test.size, annot=True,fmt='.2g', cmap='Blues',)"
   ]
  },
  {
   "cell_type": "code",
   "execution_count": null,
   "metadata": {},
   "outputs": [],
   "source": []
  },
  {
   "cell_type": "markdown",
   "metadata": {},
   "source": [
    "## KNN"
   ]
  },
  {
   "cell_type": "code",
   "execution_count": 50,
   "metadata": {},
   "outputs": [
    {
     "name": "stdout",
     "output_type": "stream",
     "text": [
      "k: 1, Train/Test Score: 1.000/0.873\n",
      "k: 3, Train/Test Score: 0.933/0.848\n",
      "k: 5, Train/Test Score: 0.913/0.847\n",
      "k: 7, Train/Test Score: 0.891/0.847\n",
      "k: 9, Train/Test Score: 0.882/0.845\n",
      "k: 11, Train/Test Score: 0.869/0.831\n",
      "k: 13, Train/Test Score: 0.865/0.803\n",
      "k: 15, Train/Test Score: 0.860/0.805\n",
      "k: 17, Train/Test Score: 0.847/0.803\n",
      "k: 19, Train/Test Score: 0.839/0.803\n"
     ]
    },
    {
     "data": {
      "image/png": "[encoded data removed]",
      "text/plain": [
       "<Figure size 432x288 with 1 Axes>"
      ]
     },
     "metadata": {
      "needs_background": "light"
     },
     "output_type": "display_data"
    }
   ],
   "source": [
    "from sklearn.neighbors import KNeighborsClassifier\n",
    "\n",
    "train_scores = []\n",
    "test_scores = []\n",
    "for k in range(1, 20, 2):\n",
    "    knn = KNeighborsClassifier(n_neighbors=k)\n",
    "    knn.fit(X_train_scaled, y_train)\n",
    "    train_score = knn.score(X_train_scaled, y_train)\n",
    "    test_score = knn.score(X_test_scaled, y_test)\n",
    "    train_scores.append(train_score)\n",
    "    test_scores.append(test_score)\n",
    "    print(f\"k: {k}, Train/Test Score: {train_score:.3f}/{test_score:.3f}\")\n",
    "\n",
    "    \n",
    "plt.plot(range(1, 20, 2), train_scores, marker='o')\n",
    "plt.plot(range(1, 20, 2), test_scores, marker=\"x\")\n",
    "plt.xlabel(\"k neighbors\")\n",
    "plt.ylabel(\"Testing accuracy Score\")\n",
    "plt.show()"
   ]
  },
  {
   "cell_type": "code",
   "execution_count": 51,
   "metadata": {},
   "outputs": [
    {
     "name": "stdout",
     "output_type": "stream",
     "text": [
      "k=11 Test Acc: 0.831\n"
     ]
    }
   ],
   "source": [
    "knn = KNeighborsClassifier(n_neighbors=11, metric='minkowski', p=2)\n",
    "knn.fit(X_train_scaled, y_train)\n",
    "print('k=11 Test Acc: %.3f' % knn.score(X_test_scaled, y_test))"
   ]
  },
  {
   "cell_type": "code",
   "execution_count": 53,
   "metadata": {},
   "outputs": [
    {
     "name": "stdout",
     "output_type": "stream",
     "text": [
      "              precision    recall  f1-score   support\n",
      "\n",
      "           0       0.72      0.93      0.81        68\n",
      "           1       0.80      0.36      0.50        78\n",
      "           2       0.73      0.82      0.77       134\n",
      "           3       0.93      0.96      0.95       248\n",
      "\n",
      "    accuracy                           0.83       528\n",
      "   macro avg       0.80      0.77      0.76       528\n",
      "weighted avg       0.83      0.83      0.82       528\n",
      "\n"
     ]
    }
   ],
   "source": [
    "target_names = ['0', '1', '2', '3']\n",
    "\n",
    "from sklearn.metrics import classification_report\n",
    "predictions = knn.predict(X_test_scaled)\n",
    "print(classification_report(y_test, predictions,\n",
    "                            target_names=target_names))"
   ]
  },
  {
   "cell_type": "code",
   "execution_count": 54,
   "metadata": {},
   "outputs": [
    {
     "data": {
      "text/plain": [
       "<matplotlib.axes._subplots.AxesSubplot at 0x149756d11c0>"
      ]
     },
     "execution_count": 54,
     "metadata": {},
     "output_type": "execute_result"
    },
    {
     "data": {
      "image/png": "[encoded data removed]",
      "text/plain": [
       "<Figure size 432x288 with 2 Axes>"
      ]
     },
     "metadata": {
      "needs_background": "light"
     },
     "output_type": "display_data"
    }
   ],
   "source": [
    "from sklearn import metrics\n",
    "cfmatrix = metrics.confusion_matrix(y_true=y_test, y_pred=knn.predict(X_test_scaled))\n",
    "import seaborn as sns\n",
    "sns.heatmap(cfmatrix/y_test.size, annot=True,fmt='.2g', cmap='Blues',)"
   ]
  },
  {
   "cell_type": "markdown",
   "metadata": {},
   "source": [
    "# Regression: attempt to predict weight"
   ]
  },
  {
   "cell_type": "code",
   "execution_count": 95,
   "metadata": {},
   "outputs": [
    {
     "name": "stdout",
     "output_type": "stream",
     "text": [
      "(2111, 24) (2111, 1)\n"
     ]
    }
   ],
   "source": [
    "# Assign X (data) and y (target)\n",
    "X2 = obesity_numeric[['Age','Height','FCVC','NCP','CAEC','CH2O','FAF','TUE',\n",
    "                      'CALC','Gender_Female','Gender_Male','family_history_with_overweight_no',\n",
    "                      'family_history_with_overweight_yes','FAVC_no','FAVC_yes','SMOKE_no',\n",
    "                      'SMOKE_yes','SCC_no','SCC_yes','MTRANS_Automobile','MTRANS_Bike',\n",
    "                      'MTRANS_Motorbike','MTRANS_Public_Transportation','MTRANS_Walking']]\n",
    "y2 = obesity_numeric[\"Weight\"].values.reshape(-1, 1)\n",
    "print(X2.shape, y2.shape)"
   ]
  },
  {
   "cell_type": "code",
   "execution_count": 96,
   "metadata": {},
   "outputs": [],
   "source": [
    "# Split the data into training and testing\n",
    "\n",
    "from sklearn.model_selection import train_test_split\n",
    "\n",
    "X2_train, X2_test, y2_train, y2_test = train_test_split(X2, y2, random_state=31)"
   ]
  },
  {
   "cell_type": "code",
   "execution_count": 117,
   "metadata": {},
   "outputs": [],
   "source": [
    "# scale age, height, weight using the standard scaler\n",
    "\n",
    "from sklearn.preprocessing import StandardScaler\n",
    "# X_train\n",
    "X2_train_scaled = X2_train.copy()\n",
    "col_names = ['Age','Height']\n",
    "features_train = X2_train_scaled[col_names]\n",
    "scaler = StandardScaler().fit(features_train.values)\n",
    "features_train = scaler.transform(features_train.values)\n",
    "X2_train_scaled[col_names] = features_train\n",
    "X2_train_scaled;\n",
    "\n",
    "#X_test\n",
    "X2_test_scaled = X2_test.copy()\n",
    "features_test = X2_test_scaled[col_names]\n",
    "scaler = StandardScaler().fit(features_test.values)\n",
    "features_test = scaler.transform(features_test.values)\n",
    "X2_test_scaled[col_names] = features_test\n",
    "X2_test_scaled;\n",
    "\n",
    "y2_scaler = StandardScaler().fit(y2_train)\n",
    "y2_train_scaled = y2_scaler.transform(y2_train)\n",
    "y2_test_scaled = y2_scaler.transform(y2_test)"
   ]
  },
  {
   "cell_type": "code",
   "execution_count": 124,
   "metadata": {},
   "outputs": [
    {
     "name": "stdout",
     "output_type": "stream",
     "text": [
      "(1583, 24)\n",
      "(1583, 1)\n"
     ]
    }
   ],
   "source": [
    "print(X2_train_scaled.shape)\n",
    "print(y2_train_scaled.shape)"
   ]
  },
  {
   "cell_type": "code",
   "execution_count": 112,
   "metadata": {},
   "outputs": [],
   "source": [
    "from sklearn.metrics import mean_squared_error"
   ]
  },
  {
   "cell_type": "code",
   "execution_count": 135,
   "metadata": {},
   "outputs": [
    {
     "name": "stdout",
     "output_type": "stream",
     "text": [
      "MSE: 0.4609497490349682, R2: 0.5280154892354021\n"
     ]
    },
    {
     "data": {
      "image/png": "[encoded data removed]",
      "text/plain": [
       "<Figure size 432x288 with 1 Axes>"
      ]
     },
     "metadata": {
      "needs_background": "light"
     },
     "output_type": "display_data"
    }
   ],
   "source": [
    "# LASSO model\n",
    "# Note: Use an alpha of .01 \n",
    "from sklearn.linear_model import Lasso\n",
    "\n",
    "lasso = Lasso(alpha=.01).fit(X2_train_scaled, y2_train_scaled)\n",
    "\n",
    "predictions = lasso.predict(X2_test_scaled)\n",
    "\n",
    "MSE = mean_squared_error(y2_test_scaled, predictions)\n",
    "r2 = lasso.score(X2_test_scaled, y2_test_scaled)\n",
    "\n",
    "print(f\"MSE: {MSE}, R2: {r2}\")\n",
    "\n",
    "plt.scatter(lasso.predict(X2_train_scaled), lasso.predict(X2_train_scaled) - y2_train_scaled[:,0], c=\"blue\", label=\"Training Data\")\n",
    "plt.scatter(lasso.predict(X2_test_scaled), lasso.predict(X2_test_scaled) - y2_test_scaled[:,0], c=\"orange\", label=\"Testing Data\")\n",
    "plt.legend()\n",
    "plt.hlines(y=0, xmin=y2_test_scaled.min(), xmax=y2_test_scaled.max())\n",
    "plt.title(\"Residual Plot\")\n",
    "plt.show()\n",
    "\n"
   ]
  },
  {
   "cell_type": "code",
   "execution_count": 139,
   "metadata": {},
   "outputs": [
    {
     "name": "stdout",
     "output_type": "stream",
     "text": [
      "MSE: 0.44911288064103416, R2: 0.5401357226222134\n"
     ]
    },
    {
     "data": {
      "image/png": "[encoded data removed]",
      "text/plain": [
       "<Figure size 432x288 with 1 Axes>"
      ]
     },
     "metadata": {
      "needs_background": "light"
     },
     "output_type": "display_data"
    }
   ],
   "source": [
    "# Ridge model\n",
    "# Note: Use an alpha of .01 \n",
    "from sklearn.linear_model import Ridge\n",
    "\n",
    "ridge = Ridge(alpha=.01).fit(X2_train_scaled, y2_train_scaled)\n",
    "\n",
    "predictions = ridge.predict(X2_test_scaled)\n",
    "\n",
    "MSE = mean_squared_error(y2_test_scaled, predictions)\n",
    "r2 = ridge.score(X2_test_scaled, y2_test_scaled)\n",
    "\n",
    "print(f\"MSE: {MSE}, R2: {r2}\")\n",
    "\n",
    "plt.scatter(ridge.predict(X2_train_scaled), ridge.predict(X2_train_scaled) - y2_train_scaled, c=\"blue\", label=\"Training Data\")\n",
    "plt.scatter(ridge.predict(X2_test_scaled), ridge.predict(X2_test_scaled) - y2_test_scaled, c=\"orange\", label=\"Testing Data\")\n",
    "plt.legend()\n",
    "plt.hlines(y=0, xmin=y2_test_scaled.min(), xmax=y2_test_scaled.max())\n",
    "plt.title(\"Residual Plot\")\n",
    "plt.show()\n"
   ]
  },
  {
   "cell_type": "markdown",
   "metadata": {},
   "source": [
    "# Clustering: using height and weight"
   ]
  },
  {
   "cell_type": "code",
   "execution_count": 160,
   "metadata": {},
   "outputs": [
    {
     "data": {
      "text/plain": [
       "array([[ 21. ,  64. ],\n",
       "       [ 21. ,  56. ],\n",
       "       [ 23. ,  77. ],\n",
       "       ...,\n",
       "       [ 23. , 133.7],\n",
       "       [ 24. , 133.3],\n",
       "       [ 24. , 133.5]])"
      ]
     },
     "execution_count": 160,
     "metadata": {},
     "output_type": "execute_result"
    }
   ],
   "source": [
    "X = obesity_numeric[['Age','Weight']].to_numpy()\n",
    "X"
   ]
  },
  {
   "cell_type": "code",
   "execution_count": 161,
   "metadata": {},
   "outputs": [
    {
     "data": {
      "image/png": "[encoded data removed]",
      "text/plain": [
       "<Figure size 432x288 with 1 Axes>"
      ]
     },
     "metadata": {
      "needs_background": "light"
     },
     "output_type": "display_data"
    }
   ],
   "source": [
    "# Plot and show scatter\n",
    "plt.scatter(X[:, 0], X[:, 1])\n",
    "plt.show()"
   ]
  },
  {
   "cell_type": "code",
   "execution_count": 162,
   "metadata": {},
   "outputs": [],
   "source": [
    "# Create a kmeans model using k = 12\n",
    "from sklearn.cluster import KMeans\n",
    "kmeans = KMeans(n_clusters=12)\n",
    "\n",
    "# Fit the model to the data\n",
    "kmeans.fit(X)\n",
    "\n",
    "# Use the data to predict the clusters\n",
    "# save the predictions as `predicted_clusters`\n",
    "predicted_clusters = kmeans.predict(X)"
   ]
  },
  {
   "cell_type": "code",
   "execution_count": 163,
   "metadata": {},
   "outputs": [
    {
     "data": {
      "image/png": "[encoded data removed]",
      "text/plain": [
       "<Figure size 432x288 with 1 Axes>"
      ]
     },
     "metadata": {
      "needs_background": "light"
     },
     "output_type": "display_data"
    }
   ],
   "source": [
    "# Plot the clusters\n",
    "plt.scatter(X[:, 0], X[:, 1], c=predicted_clusters, s=50, cmap='viridis')\n",
    "plt.show()"
   ]
  },
  {
   "cell_type": "code",
   "execution_count": 164,
   "metadata": {},
   "outputs": [],
   "source": [
    "# Print the cluster centers and cluster labels\n",
    "centers = kmeans.cluster_centers_\n",
    "labels = kmeans.labels_"
   ]
  },
  {
   "cell_type": "code",
   "execution_count": 165,
   "metadata": {},
   "outputs": [
    {
     "data": {
      "text/plain": [
       "array([[ 32.32323232, 101.66969697],\n",
       "       [ 19.99166667,  47.33      ],\n",
       "       [ 21.64285714,  80.65714286],\n",
       "       [ 20.84955752, 133.30442478],\n",
       "       [ 24.90522876, 109.10098039],\n",
       "       [ 21.36206897,  67.89913793],\n",
       "       [ 23.21925134,  92.85454545],\n",
       "       [ 38.025     ,  80.27375   ],\n",
       "       [ 20.07692308, 153.77307692],\n",
       "       [ 27.68586387, 120.61099476],\n",
       "       [ 37.62068966,  60.62758621],\n",
       "       [ 19.796875  ,  57.584375  ]])"
      ]
     },
     "execution_count": 165,
     "metadata": {},
     "output_type": "execute_result"
    }
   ],
   "source": [
    "centers"
   ]
  },
  {
   "cell_type": "code",
   "execution_count": 166,
   "metadata": {},
   "outputs": [
    {
     "data": {
      "image/png": "[encoded data removed]",
      "text/plain": [
       "<Figure size 432x288 with 1 Axes>"
      ]
     },
     "metadata": {
      "needs_background": "light"
     },
     "output_type": "display_data"
    }
   ],
   "source": [
    "plt.scatter(X[:, 0], X[:, 1], c=labels, s=50, cmap='viridis')\n",
    "plt.scatter(centers[:, 0], centers[:, 1], c='black', s=200, alpha=0.5)\n",
    "\n",
    "plt.show()"
   ]
  },
  {
   "cell_type": "code",
   "execution_count": null,
   "metadata": {},
   "outputs": [],
   "source": []
  }
 ],
 "metadata": {
  "kernelspec": {
   "display_name": "Python 3",
   "language": "python",
   "name": "python3"
  },
  "language_info": {
   "codemirror_mode": {
    "name": "ipython",
    "version": 3
   },
   "file_extension": ".py",
   "mimetype": "text/x-python",
   "name": "python",
   "nbconvert_exporter": "python",
   "pygments_lexer": "ipython3",
   "version": "3.8.8"
  }
 },
 "nbformat": 4,
 "nbformat_minor": 4
}
