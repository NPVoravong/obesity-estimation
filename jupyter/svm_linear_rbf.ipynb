{
 "cells": [
  {
   "cell_type": "code",
   "execution_count": 1,
   "metadata": {},
   "outputs": [],
   "source": [
    "import matplotlib.pyplot as plt\n",
    "import pandas as pd\n",
    "import numpy as np\n",
    "import os\n",
    "import seaborn as sns\n",
    "\n",
    "# %matplotlib notebook"
   ]
  },
  {
   "cell_type": "code",
   "execution_count": 2,
   "metadata": {},
   "outputs": [],
   "source": [
    "from sklearn.model_selection import train_test_split\n",
    "from sklearn.svm import SVC \n",
    "from sklearn.metrics import confusion_matrix\n",
    "\n",
    "from sklearn.model_selection import validation_curve\n",
    "from sklearn.model_selection import KFold\n",
    "from sklearn.model_selection import cross_val_score\n",
    "from sklearn.model_selection import GridSearchCV"
   ]
  },
  {
   "cell_type": "code",
   "execution_count": 3,
   "metadata": {},
   "outputs": [
    {
     "data": {
      "text/html": [
       "<div>\n",
       "<style scoped>\n",
       "    .dataframe tbody tr th:only-of-type {\n",
       "        vertical-align: middle;\n",
       "    }\n",
       "\n",
       "    .dataframe tbody tr th {\n",
       "        vertical-align: top;\n",
       "    }\n",
       "\n",
       "    .dataframe thead th {\n",
       "        text-align: right;\n",
       "    }\n",
       "</style>\n",
       "<table border=\"1\" class=\"dataframe\">\n",
       "  <thead>\n",
       "    <tr style=\"text-align: right;\">\n",
       "      <th></th>\n",
       "      <th>Gender</th>\n",
       "      <th>Age</th>\n",
       "      <th>Height</th>\n",
       "      <th>Weight</th>\n",
       "      <th>family_history_with_overweight</th>\n",
       "      <th>FAVC</th>\n",
       "      <th>FCVC</th>\n",
       "      <th>NCP</th>\n",
       "      <th>CAEC</th>\n",
       "      <th>SMOKE</th>\n",
       "      <th>CH2O</th>\n",
       "      <th>SCC</th>\n",
       "      <th>FAF</th>\n",
       "      <th>TUE</th>\n",
       "      <th>CALC</th>\n",
       "      <th>MTRANS</th>\n",
       "      <th>NObeyesdad</th>\n",
       "    </tr>\n",
       "  </thead>\n",
       "  <tbody>\n",
       "    <tr>\n",
       "      <th>0</th>\n",
       "      <td>0</td>\n",
       "      <td>21.0</td>\n",
       "      <td>1.6</td>\n",
       "      <td>64.0</td>\n",
       "      <td>1</td>\n",
       "      <td>0</td>\n",
       "      <td>1</td>\n",
       "      <td>2.0</td>\n",
       "      <td>1</td>\n",
       "      <td>0</td>\n",
       "      <td>1</td>\n",
       "      <td>0</td>\n",
       "      <td>0</td>\n",
       "      <td>1</td>\n",
       "      <td>0</td>\n",
       "      <td>3</td>\n",
       "      <td>1</td>\n",
       "    </tr>\n",
       "    <tr>\n",
       "      <th>1</th>\n",
       "      <td>0</td>\n",
       "      <td>21.0</td>\n",
       "      <td>1.5</td>\n",
       "      <td>56.0</td>\n",
       "      <td>1</td>\n",
       "      <td>0</td>\n",
       "      <td>2</td>\n",
       "      <td>2.0</td>\n",
       "      <td>1</td>\n",
       "      <td>1</td>\n",
       "      <td>2</td>\n",
       "      <td>1</td>\n",
       "      <td>3</td>\n",
       "      <td>0</td>\n",
       "      <td>1</td>\n",
       "      <td>3</td>\n",
       "      <td>1</td>\n",
       "    </tr>\n",
       "    <tr>\n",
       "      <th>2</th>\n",
       "      <td>1</td>\n",
       "      <td>23.0</td>\n",
       "      <td>1.8</td>\n",
       "      <td>77.0</td>\n",
       "      <td>1</td>\n",
       "      <td>0</td>\n",
       "      <td>1</td>\n",
       "      <td>2.0</td>\n",
       "      <td>1</td>\n",
       "      <td>0</td>\n",
       "      <td>1</td>\n",
       "      <td>0</td>\n",
       "      <td>2</td>\n",
       "      <td>1</td>\n",
       "      <td>2</td>\n",
       "      <td>3</td>\n",
       "      <td>1</td>\n",
       "    </tr>\n",
       "    <tr>\n",
       "      <th>3</th>\n",
       "      <td>1</td>\n",
       "      <td>27.0</td>\n",
       "      <td>1.8</td>\n",
       "      <td>87.0</td>\n",
       "      <td>0</td>\n",
       "      <td>0</td>\n",
       "      <td>2</td>\n",
       "      <td>2.0</td>\n",
       "      <td>1</td>\n",
       "      <td>0</td>\n",
       "      <td>1</td>\n",
       "      <td>0</td>\n",
       "      <td>2</td>\n",
       "      <td>0</td>\n",
       "      <td>2</td>\n",
       "      <td>4</td>\n",
       "      <td>2</td>\n",
       "    </tr>\n",
       "    <tr>\n",
       "      <th>4</th>\n",
       "      <td>1</td>\n",
       "      <td>22.0</td>\n",
       "      <td>1.8</td>\n",
       "      <td>89.8</td>\n",
       "      <td>0</td>\n",
       "      <td>0</td>\n",
       "      <td>1</td>\n",
       "      <td>0.0</td>\n",
       "      <td>1</td>\n",
       "      <td>0</td>\n",
       "      <td>1</td>\n",
       "      <td>0</td>\n",
       "      <td>0</td>\n",
       "      <td>0</td>\n",
       "      <td>1</td>\n",
       "      <td>3</td>\n",
       "      <td>2</td>\n",
       "    </tr>\n",
       "  </tbody>\n",
       "</table>\n",
       "</div>"
      ],
      "text/plain": [
       "   Gender   Age  Height  Weight  family_history_with_overweight  FAVC  FCVC  \\\n",
       "0       0  21.0     1.6    64.0                               1     0     1   \n",
       "1       0  21.0     1.5    56.0                               1     0     2   \n",
       "2       1  23.0     1.8    77.0                               1     0     1   \n",
       "3       1  27.0     1.8    87.0                               0     0     2   \n",
       "4       1  22.0     1.8    89.8                               0     0     1   \n",
       "\n",
       "   NCP  CAEC  SMOKE  CH2O  SCC  FAF  TUE  CALC  MTRANS  NObeyesdad  \n",
       "0  2.0     1      0     1    0    0    1     0       3           1  \n",
       "1  2.0     1      1     2    1    3    0     1       3           1  \n",
       "2  2.0     1      0     1    0    2    1     2       3           1  \n",
       "3  2.0     1      0     1    0    2    0     2       4           2  \n",
       "4  0.0     1      0     1    0    0    0     1       3           2  "
      ]
     },
     "execution_count": 3,
     "metadata": {},
     "output_type": "execute_result"
    }
   ],
   "source": [
    "df = pd.read_csv(os.path.join(\"..\", \"data\", \"obesity_numeric.csv\"))\n",
    "df.head()"
   ]
  },
  {
   "cell_type": "code",
   "execution_count": 4,
   "metadata": {},
   "outputs": [
    {
     "name": "stdout",
     "output_type": "stream",
     "text": [
      "(2111, 17)\n"
     ]
    }
   ],
   "source": [
    "#Checking dimensions of df\n",
    "print(df.shape)"
   ]
  },
  {
   "cell_type": "code",
   "execution_count": 5,
   "metadata": {},
   "outputs": [
    {
     "name": "stdout",
     "output_type": "stream",
     "text": [
      "Index(['Gender', 'Age', 'Height', 'Weight', 'family_history_with_overweight',\n",
      "       'FAVC', 'FCVC', 'NCP', 'CAEC', 'SMOKE', 'CH2O', 'SCC', 'FAF', 'TUE',\n",
      "       'CALC', 'MTRANS', 'NObeyesdad'],\n",
      "      dtype='object')\n"
     ]
    }
   ],
   "source": [
    "#Checking columns\n",
    "print(df.columns)"
   ]
  },
  {
   "cell_type": "code",
   "execution_count": 6,
   "metadata": {},
   "outputs": [],
   "source": [
    "#Convert int to float type \n",
    "df = df.astype({'Gender':'float','family_history_with_overweight':'float', 'FAVC':'float',\\\n",
    "                    'FCVC':'float', 'CAEC':'float', 'SMOKE':'float','CH2O':'float', 'SCC':'float',\\\n",
    "                    'FAF':'float', 'TUE':'float', 'CALC':'float', 'MTRANS':'float', 'NObeyesdad':'int64'})  "
   ]
  },
  {
   "cell_type": "code",
   "execution_count": 7,
   "metadata": {},
   "outputs": [
    {
     "name": "stdout",
     "output_type": "stream",
     "text": [
      "<class 'pandas.core.frame.DataFrame'>\n",
      "RangeIndex: 2111 entries, 0 to 2110\n",
      "Data columns (total 17 columns):\n",
      " #   Column                          Non-Null Count  Dtype  \n",
      "---  ------                          --------------  -----  \n",
      " 0   Gender                          2111 non-null   float64\n",
      " 1   Age                             2111 non-null   float64\n",
      " 2   Height                          2111 non-null   float64\n",
      " 3   Weight                          2111 non-null   float64\n",
      " 4   family_history_with_overweight  2111 non-null   float64\n",
      " 5   FAVC                            2111 non-null   float64\n",
      " 6   FCVC                            2111 non-null   float64\n",
      " 7   NCP                             2111 non-null   float64\n",
      " 8   CAEC                            2111 non-null   float64\n",
      " 9   SMOKE                           2111 non-null   float64\n",
      " 10  CH2O                            2111 non-null   float64\n",
      " 11  SCC                             2111 non-null   float64\n",
      " 12  FAF                             2111 non-null   float64\n",
      " 13  TUE                             2111 non-null   float64\n",
      " 14  CALC                            2111 non-null   float64\n",
      " 15  MTRANS                          2111 non-null   float64\n",
      " 16  NObeyesdad                      2111 non-null   int64  \n",
      "dtypes: float64(16), int64(1)\n",
      "memory usage: 280.5 KB\n"
     ]
    }
   ],
   "source": [
    "#Checking that the data types are correct\n",
    "df.info()"
   ]
  },
  {
   "cell_type": "code",
   "execution_count": 8,
   "metadata": {},
   "outputs": [
    {
     "name": "stdout",
     "output_type": "stream",
     "text": [
      "[0, 1, 2, 3]\n"
     ]
    },
    {
     "data": {
      "text/plain": [
       "<matplotlib.axes._subplots.AxesSubplot at 0x261dcce1880>"
      ]
     },
     "execution_count": 8,
     "metadata": {},
     "output_type": "execute_result"
    },
    {
     "data": {
      "image/png": "[encoded data removed]",
      "text/plain": [
       "<Figure size 1152x576 with 1 Axes>"
      ]
     },
     "metadata": {
      "needs_background": "light"
     },
     "output_type": "display_data"
    }
   ],
   "source": [
    "#Basic plots : How do various attributes vary with the obesity levels\n",
    "#Shows the ditribution of our data (mostly obese)\n",
    "\n",
    "order = list(np.sort(df['NObeyesdad'].unique()))\n",
    "print(order)\n",
    "\n",
    "plt.figure(figsize=(16,8))\n",
    "sns.barplot(x='NObeyesdad', y='Weight',\n",
    "           data=df,\n",
    "           order=order)"
   ]
  },
  {
   "cell_type": "code",
   "execution_count": 9,
   "metadata": {},
   "outputs": [
    {
     "data": {
      "text/html": [
       "<div>\n",
       "<style scoped>\n",
       "    .dataframe tbody tr th:only-of-type {\n",
       "        vertical-align: middle;\n",
       "    }\n",
       "\n",
       "    .dataframe tbody tr th {\n",
       "        vertical-align: top;\n",
       "    }\n",
       "\n",
       "    .dataframe thead th {\n",
       "        text-align: right;\n",
       "    }\n",
       "</style>\n",
       "<table border=\"1\" class=\"dataframe\">\n",
       "  <thead>\n",
       "    <tr style=\"text-align: right;\">\n",
       "      <th></th>\n",
       "      <th>Gender</th>\n",
       "      <th>Age</th>\n",
       "      <th>Height</th>\n",
       "      <th>Weight</th>\n",
       "      <th>family_history_with_overweight</th>\n",
       "      <th>FAVC</th>\n",
       "      <th>FCVC</th>\n",
       "      <th>NCP</th>\n",
       "      <th>CAEC</th>\n",
       "      <th>SMOKE</th>\n",
       "      <th>CH2O</th>\n",
       "      <th>SCC</th>\n",
       "      <th>FAF</th>\n",
       "      <th>TUE</th>\n",
       "      <th>CALC</th>\n",
       "      <th>MTRANS</th>\n",
       "    </tr>\n",
       "    <tr>\n",
       "      <th>NObeyesdad</th>\n",
       "      <th></th>\n",
       "      <th></th>\n",
       "      <th></th>\n",
       "      <th></th>\n",
       "      <th></th>\n",
       "      <th></th>\n",
       "      <th></th>\n",
       "      <th></th>\n",
       "      <th></th>\n",
       "      <th></th>\n",
       "      <th></th>\n",
       "      <th></th>\n",
       "      <th></th>\n",
       "      <th></th>\n",
       "      <th></th>\n",
       "      <th></th>\n",
       "    </tr>\n",
       "  </thead>\n",
       "  <tbody>\n",
       "    <tr>\n",
       "      <th>0</th>\n",
       "      <td>0.363971</td>\n",
       "      <td>19.761029</td>\n",
       "      <td>1.690809</td>\n",
       "      <td>49.906985</td>\n",
       "      <td>0.463235</td>\n",
       "      <td>0.812500</td>\n",
       "      <td>1.514706</td>\n",
       "      <td>2.191176</td>\n",
       "      <td>1.448529</td>\n",
       "      <td>0.003676</td>\n",
       "      <td>0.860294</td>\n",
       "      <td>0.080882</td>\n",
       "      <td>1.246324</td>\n",
       "      <td>0.841912</td>\n",
       "      <td>0.573529</td>\n",
       "      <td>2.514706</td>\n",
       "    </tr>\n",
       "    <tr>\n",
       "      <th>1</th>\n",
       "      <td>0.508711</td>\n",
       "      <td>21.738676</td>\n",
       "      <td>1.677352</td>\n",
       "      <td>62.155052</td>\n",
       "      <td>0.540070</td>\n",
       "      <td>0.724739</td>\n",
       "      <td>1.334495</td>\n",
       "      <td>1.839721</td>\n",
       "      <td>1.498258</td>\n",
       "      <td>0.045296</td>\n",
       "      <td>0.850174</td>\n",
       "      <td>0.104530</td>\n",
       "      <td>1.247387</td>\n",
       "      <td>0.675958</td>\n",
       "      <td>0.696864</td>\n",
       "      <td>2.585366</td>\n",
       "    </tr>\n",
       "    <tr>\n",
       "      <th>2</th>\n",
       "      <td>0.572414</td>\n",
       "      <td>25.200000</td>\n",
       "      <td>1.694483</td>\n",
       "      <td>78.176552</td>\n",
       "      <td>0.829310</td>\n",
       "      <td>0.834483</td>\n",
       "      <td>1.268966</td>\n",
       "      <td>1.577586</td>\n",
       "      <td>1.017241</td>\n",
       "      <td>0.013793</td>\n",
       "      <td>1.044828</td>\n",
       "      <td>0.070690</td>\n",
       "      <td>1.015517</td>\n",
       "      <td>0.650000</td>\n",
       "      <td>0.753448</td>\n",
       "      <td>2.187931</td>\n",
       "    </tr>\n",
       "    <tr>\n",
       "      <th>3</th>\n",
       "      <td>0.505144</td>\n",
       "      <td>25.824074</td>\n",
       "      <td>1.715226</td>\n",
       "      <td>109.081687</td>\n",
       "      <td>0.991770</td>\n",
       "      <td>0.980453</td>\n",
       "      <td>1.516461</td>\n",
       "      <td>1.721193</td>\n",
       "      <td>1.022634</td>\n",
       "      <td>0.022634</td>\n",
       "      <td>1.088477</td>\n",
       "      <td>0.003086</td>\n",
       "      <td>0.863169</td>\n",
       "      <td>0.620370</td>\n",
       "      <td>0.772634</td>\n",
       "      <td>2.360082</td>\n",
       "    </tr>\n",
       "  </tbody>\n",
       "</table>\n",
       "</div>"
      ],
      "text/plain": [
       "              Gender        Age    Height      Weight  \\\n",
       "NObeyesdad                                              \n",
       "0           0.363971  19.761029  1.690809   49.906985   \n",
       "1           0.508711  21.738676  1.677352   62.155052   \n",
       "2           0.572414  25.200000  1.694483   78.176552   \n",
       "3           0.505144  25.824074  1.715226  109.081687   \n",
       "\n",
       "            family_history_with_overweight      FAVC      FCVC       NCP  \\\n",
       "NObeyesdad                                                                 \n",
       "0                                 0.463235  0.812500  1.514706  2.191176   \n",
       "1                                 0.540070  0.724739  1.334495  1.839721   \n",
       "2                                 0.829310  0.834483  1.268966  1.577586   \n",
       "3                                 0.991770  0.980453  1.516461  1.721193   \n",
       "\n",
       "                CAEC     SMOKE      CH2O       SCC       FAF       TUE  \\\n",
       "NObeyesdad                                                               \n",
       "0           1.448529  0.003676  0.860294  0.080882  1.246324  0.841912   \n",
       "1           1.498258  0.045296  0.850174  0.104530  1.247387  0.675958   \n",
       "2           1.017241  0.013793  1.044828  0.070690  1.015517  0.650000   \n",
       "3           1.022634  0.022634  1.088477  0.003086  0.863169  0.620370   \n",
       "\n",
       "                CALC    MTRANS  \n",
       "NObeyesdad                      \n",
       "0           0.573529  2.514706  \n",
       "1           0.696864  2.585366  \n",
       "2           0.753448  2.187931  \n",
       "3           0.772634  2.360082  "
      ]
     },
     "execution_count": 9,
     "metadata": {},
     "output_type": "execute_result"
    }
   ],
   "source": [
    "level_means = df.groupby('NObeyesdad').mean()\n",
    "level_means.head()"
   ]
  },
  {
   "cell_type": "code",
   "execution_count": 10,
   "metadata": {},
   "outputs": [
    {
     "data": {
      "text/plain": [
       "<matplotlib.axes._subplots.AxesSubplot at 0x261a2202610>"
      ]
     },
     "execution_count": 10,
     "metadata": {},
     "output_type": "execute_result"
    },
    {
     "data": {
      "image/png": "[encoded data removed]",
      "text/plain": [
       "<Figure size 1296x720 with 2 Axes>"
      ]
     },
     "metadata": {
      "needs_background": "light"
     },
     "output_type": "display_data"
    }
   ],
   "source": [
    "#Shows we need to scale the data\n",
    "plt.figure(figsize=(18, 10))\n",
    "sns.heatmap(level_means)"
   ]
  },
  {
   "cell_type": "markdown",
   "metadata": {},
   "source": [
    "<h1>Data Preparation<h1>"
   ]
  },
  {
   "cell_type": "code",
   "execution_count": 11,
   "metadata": {},
   "outputs": [
    {
     "data": {
      "text/plain": [
       "Gender                             0.51\n",
       "Age                               24.32\n",
       "Height                             1.70\n",
       "Weight                            86.59\n",
       "family_history_with_overweight     0.82\n",
       "FAVC                               0.88\n",
       "FCVC                               1.42\n",
       "NCP                                1.76\n",
       "CAEC                               1.14\n",
       "SMOKE                              0.02\n",
       "CH2O                               1.01\n",
       "SCC                                0.05\n",
       "FAF                                1.01\n",
       "TUE                                0.66\n",
       "CALC                               0.73\n",
       "MTRANS                             2.36\n",
       "dtype: float64"
      ]
     },
     "execution_count": 11,
     "metadata": {},
     "output_type": "execute_result"
    }
   ],
   "source": [
    "#Averge feature values, shows there needs to be scaling\n",
    "round(df.drop('NObeyesdad', axis = 1).mean(), 2)"
   ]
  },
  {
   "cell_type": "code",
   "execution_count": 12,
   "metadata": {},
   "outputs": [],
   "source": [
    "#Assign X (data) and y (target)\n",
    "data = df.drop('NObeyesdad', axis = 1)\n",
    "\n",
    "target_names = ['0', '1', '2', '3']\n",
    "target = df['NObeyesdad']"
   ]
  },
  {
   "cell_type": "code",
   "execution_count": 13,
   "metadata": {},
   "outputs": [],
   "source": [
    "#Scaling the features\n",
    "#Scale function standardises each column\n",
    "from sklearn.preprocessing import scale   \n",
    "data = scale(data)\n",
    "\n",
    "#Split into train and test\n",
    "X_train, X_test, y_train, y_test = train_test_split(data, target, test_size = 0.25, random_state = 42)"
   ]
  },
  {
   "cell_type": "code",
   "execution_count": 14,
   "metadata": {},
   "outputs": [
    {
     "name": "stdout",
     "output_type": "stream",
     "text": [
      "2.0675931775110548\n",
      "2.0643939393939394\n"
     ]
    }
   ],
   "source": [
    "#Confirm that splitting also has similar distribution of each obesity level\n",
    "print(y_train.mean())\n",
    "print(y_test.mean())"
   ]
  },
  {
   "cell_type": "markdown",
   "metadata": {},
   "source": [
    "<h1>Model Building<h1>"
   ]
  },
  {
   "cell_type": "markdown",
   "metadata": {},
   "source": [
    "Building 2 models (linear & non linear)"
   ]
  },
  {
   "cell_type": "code",
   "execution_count": 43,
   "metadata": {},
   "outputs": [],
   "source": [
    "#Linear model & fit\n",
    "model_linear = SVC(kernel = 'linear')\n",
    "model_linear.fit(X_train, y_train)\n",
    "\n",
    "#Predict\n",
    "linear_y_pred = model_linear.predict(X_test)"
   ]
  },
  {
   "cell_type": "code",
   "execution_count": 44,
   "metadata": {},
   "outputs": [
    {
     "data": {
      "text/plain": [
       "array([[ 67,   1,   0,   0],\n",
       "       [ 11,  61,   6,   0],\n",
       "       [  0,   3, 127,   4],\n",
       "       [  0,   0,   1, 247]], dtype=int64)"
      ]
     },
     "execution_count": 44,
     "metadata": {},
     "output_type": "execute_result"
    }
   ],
   "source": [
    "#Evaluate the model using confustion matrix\n",
    "from sklearn import metrics\n",
    "metrics.confusion_matrix(y_true=y_test, y_pred=linear_y_pred)"
   ]
  },
  {
   "cell_type": "code",
   "execution_count": 45,
   "metadata": {},
   "outputs": [
    {
     "name": "stdout",
     "output_type": "stream",
     "text": [
      "Accuracy : 0.9507575757575758\n",
      "Precision Score : 0.9520039113166603\n",
      "Recall Score : 0.9507575757575758\n"
     ]
    }
   ],
   "source": [
    "#Print other metrics\n",
    "print('Accuracy :', metrics.accuracy_score(y_test, linear_y_pred))\n",
    "print('Precision Score :',metrics.precision_score(y_test, linear_y_pred, average='weighted'))\n",
    "print('Recall Score :',metrics.recall_score(y_test, linear_y_pred, average='weighted'))"
   ]
  },
  {
   "cell_type": "code",
   "execution_count": 46,
   "metadata": {},
   "outputs": [
    {
     "name": "stdout",
     "output_type": "stream",
     "text": [
      "              precision    recall  f1-score   support\n",
      "\n",
      "           0       0.86      0.99      0.92        68\n",
      "           1       0.94      0.78      0.85        78\n",
      "           2       0.95      0.95      0.95       134\n",
      "           3       0.98      1.00      0.99       248\n",
      "\n",
      "    accuracy                           0.95       528\n",
      "   macro avg       0.93      0.93      0.93       528\n",
      "weighted avg       0.95      0.95      0.95       528\n",
      "\n"
     ]
    }
   ],
   "source": [
    "# Calculate Linear classification report\n",
    "from sklearn.metrics import classification_report\n",
    "predictions = model_linear.predict(X_test)\n",
    "print(classification_report(y_test, predictions,\n",
    "                            target_names=target_names))"
   ]
  },
  {
   "cell_type": "code",
   "execution_count": 48,
   "metadata": {},
   "outputs": [],
   "source": [
    "#Non linear model & fit\n",
    "non_linear_model = SVC(kernel='rbf')\n",
    "non_linear_model.fit(X_train, y_train)\n",
    "\n",
    "#Predict\n",
    "non_linear_y_pred = non_linear_model.predict(X_test)"
   ]
  },
  {
   "cell_type": "code",
   "execution_count": 49,
   "metadata": {},
   "outputs": [
    {
     "data": {
      "text/plain": [
       "array([[ 60,   7,   1,   0],\n",
       "       [  7,  50,  21,   0],\n",
       "       [  1,  13, 116,   4],\n",
       "       [  0,   2,   5, 241]], dtype=int64)"
      ]
     },
     "execution_count": 49,
     "metadata": {},
     "output_type": "execute_result"
    }
   ],
   "source": [
    "#Evaluate the model using confustion matrix\n",
    "from sklearn import metrics\n",
    "metrics.confusion_matrix(y_true=y_test, y_pred=non_linear_y_pred)"
   ]
  },
  {
   "cell_type": "code",
   "execution_count": 50,
   "metadata": {},
   "outputs": [
    {
     "name": "stdout",
     "output_type": "stream",
     "text": [
      "Accuracy : 0.884469696969697\n",
      "Precision Score : 0.8841230829055504\n",
      "Recall Score : 0.884469696969697\n"
     ]
    }
   ],
   "source": [
    "#Print other metrics\n",
    "print('Accuracy :', metrics.accuracy_score(y_test, non_linear_y_pred))\n",
    "print('Precision Score :',metrics.precision_score(y_test, non_linear_y_pred, average='weighted'))\n",
    "print('Recall Score :',metrics.recall_score(y_test, non_linear_y_pred, average='weighted'))"
   ]
  },
  {
   "cell_type": "code",
   "execution_count": 51,
   "metadata": {},
   "outputs": [
    {
     "name": "stdout",
     "output_type": "stream",
     "text": [
      "              precision    recall  f1-score   support\n",
      "\n",
      "           0       0.88      0.88      0.88        68\n",
      "           1       0.69      0.64      0.67        78\n",
      "           2       0.81      0.87      0.84       134\n",
      "           3       0.98      0.97      0.98       248\n",
      "\n",
      "    accuracy                           0.88       528\n",
      "   macro avg       0.84      0.84      0.84       528\n",
      "weighted avg       0.88      0.88      0.88       528\n",
      "\n"
     ]
    }
   ],
   "source": [
    "# Calculate Non Linear classification report\n",
    "from sklearn.metrics import classification_report\n",
    "predictions = non_linear_model.predict(X_test)\n",
    "print(classification_report(y_test, predictions,\n",
    "                            target_names=target_names))"
   ]
  },
  {
   "cell_type": "markdown",
   "metadata": {},
   "source": [
    "<h1>Hyperparameter Tuning<h1>"
   ]
  },
  {
   "cell_type": "markdown",
   "metadata": {},
   "source": [
    "Now, optimise hyperparameters of C & Gamma"
   ]
  },
  {
   "cell_type": "markdown",
   "metadata": {},
   "source": [
    "<h1>Grid Search to find Optimal Hyperparameter<h1>"
   ]
  },
  {
   "cell_type": "code",
   "execution_count": 52,
   "metadata": {},
   "outputs": [
    {
     "name": "stdout",
     "output_type": "stream",
     "text": [
      "Fitting 5 folds for each of 12 candidates, totalling 60 fits\n"
     ]
    },
    {
     "name": "stderr",
     "output_type": "stream",
     "text": [
      "[Parallel(n_jobs=1)]: Using backend SequentialBackend with 1 concurrent workers.\n",
      "[Parallel(n_jobs=1)]: Done  60 out of  60 | elapsed:    3.7s finished\n"
     ]
    },
    {
     "data": {
      "text/plain": [
       "GridSearchCV(cv=KFold(n_splits=5, random_state=42, shuffle=True),\n",
       "             estimator=SVC(),\n",
       "             param_grid=[{'C': [1, 10, 100, 1000],\n",
       "                          'gamma': [0.01, 0.001, 0.0001]}],\n",
       "             return_train_score=True, scoring='accuracy', verbose=1)"
      ]
     },
     "execution_count": 52,
     "metadata": {},
     "output_type": "execute_result"
    }
   ],
   "source": [
    "#Does not touch the testing dataset, getting accuracy for each fold and averging the results\n",
    "#Creating a KFold object with 5 splits\n",
    "folds = KFold(n_splits = 5, shuffle = True, random_state = 42)\n",
    "\n",
    "#Specify range of hyperparameters\n",
    "#Set the parameters by corss-validation\n",
    "hyper_params = [{\n",
    "    'gamma' : [1e-2, 1e-3, 1e-4],\n",
    "    'C' : [1,10,100,1000]\n",
    "}]\n",
    "\n",
    "#specify model\n",
    "model = SVC(kernel = 'rbf')\n",
    "\n",
    "#Set up GridSearchCV()\n",
    "model_cv = GridSearchCV(estimator = model,\n",
    "                       param_grid = hyper_params,\n",
    "                       scoring = 'accuracy',\n",
    "                       cv = folds,\n",
    "                       verbose = 1,\n",
    "                       return_train_score = True)\n",
    "\n",
    "#Fit the model - it will fit 5 folds across all values of C\n",
    "model_cv.fit(X_train, y_train)\n"
   ]
  },
  {
   "cell_type": "code",
   "execution_count": 53,
   "metadata": {},
   "outputs": [
    {
     "data": {
      "text/html": [
       "<div>\n",
       "<style scoped>\n",
       "    .dataframe tbody tr th:only-of-type {\n",
       "        vertical-align: middle;\n",
       "    }\n",
       "\n",
       "    .dataframe tbody tr th {\n",
       "        vertical-align: top;\n",
       "    }\n",
       "\n",
       "    .dataframe thead th {\n",
       "        text-align: right;\n",
       "    }\n",
       "</style>\n",
       "<table border=\"1\" class=\"dataframe\">\n",
       "  <thead>\n",
       "    <tr style=\"text-align: right;\">\n",
       "      <th></th>\n",
       "      <th>mean_fit_time</th>\n",
       "      <th>std_fit_time</th>\n",
       "      <th>mean_score_time</th>\n",
       "      <th>std_score_time</th>\n",
       "      <th>param_C</th>\n",
       "      <th>param_gamma</th>\n",
       "      <th>params</th>\n",
       "      <th>split0_test_score</th>\n",
       "      <th>split1_test_score</th>\n",
       "      <th>split2_test_score</th>\n",
       "      <th>...</th>\n",
       "      <th>mean_test_score</th>\n",
       "      <th>std_test_score</th>\n",
       "      <th>rank_test_score</th>\n",
       "      <th>split0_train_score</th>\n",
       "      <th>split1_train_score</th>\n",
       "      <th>split2_train_score</th>\n",
       "      <th>split3_train_score</th>\n",
       "      <th>split4_train_score</th>\n",
       "      <th>mean_train_score</th>\n",
       "      <th>std_train_score</th>\n",
       "    </tr>\n",
       "  </thead>\n",
       "  <tbody>\n",
       "    <tr>\n",
       "      <th>0</th>\n",
       "      <td>0.036830</td>\n",
       "      <td>0.002683</td>\n",
       "      <td>0.007379</td>\n",
       "      <td>0.000469</td>\n",
       "      <td>1</td>\n",
       "      <td>0.01</td>\n",
       "      <td>{'C': 1, 'gamma': 0.01}</td>\n",
       "      <td>0.854890</td>\n",
       "      <td>0.873817</td>\n",
       "      <td>0.899054</td>\n",
       "      <td>...</td>\n",
       "      <td>0.862894</td>\n",
       "      <td>0.023918</td>\n",
       "      <td>7</td>\n",
       "      <td>0.886256</td>\n",
       "      <td>0.881517</td>\n",
       "      <td>0.882306</td>\n",
       "      <td>0.888713</td>\n",
       "      <td>0.889503</td>\n",
       "      <td>0.885659</td>\n",
       "      <td>0.003251</td>\n",
       "    </tr>\n",
       "    <tr>\n",
       "      <th>1</th>\n",
       "      <td>0.053393</td>\n",
       "      <td>0.002585</td>\n",
       "      <td>0.008981</td>\n",
       "      <td>0.000631</td>\n",
       "      <td>1</td>\n",
       "      <td>0.001</td>\n",
       "      <td>{'C': 1, 'gamma': 0.001}</td>\n",
       "      <td>0.678233</td>\n",
       "      <td>0.605678</td>\n",
       "      <td>0.602524</td>\n",
       "      <td>...</td>\n",
       "      <td>0.632350</td>\n",
       "      <td>0.044489</td>\n",
       "      <td>11</td>\n",
       "      <td>0.651659</td>\n",
       "      <td>0.631122</td>\n",
       "      <td>0.627962</td>\n",
       "      <td>0.653512</td>\n",
       "      <td>0.662194</td>\n",
       "      <td>0.645290</td>\n",
       "      <td>0.013378</td>\n",
       "    </tr>\n",
       "    <tr>\n",
       "      <th>2</th>\n",
       "      <td>0.054077</td>\n",
       "      <td>0.001134</td>\n",
       "      <td>0.008804</td>\n",
       "      <td>0.000407</td>\n",
       "      <td>1</td>\n",
       "      <td>0.0001</td>\n",
       "      <td>{'C': 1, 'gamma': 0.0001}</td>\n",
       "      <td>0.507886</td>\n",
       "      <td>0.457413</td>\n",
       "      <td>0.454259</td>\n",
       "      <td>...</td>\n",
       "      <td>0.457329</td>\n",
       "      <td>0.042010</td>\n",
       "      <td>12</td>\n",
       "      <td>0.444708</td>\n",
       "      <td>0.457346</td>\n",
       "      <td>0.458136</td>\n",
       "      <td>0.475927</td>\n",
       "      <td>0.450671</td>\n",
       "      <td>0.457358</td>\n",
       "      <td>0.010490</td>\n",
       "    </tr>\n",
       "    <tr>\n",
       "      <th>3</th>\n",
       "      <td>0.027316</td>\n",
       "      <td>0.001352</td>\n",
       "      <td>0.004182</td>\n",
       "      <td>0.000402</td>\n",
       "      <td>10</td>\n",
       "      <td>0.01</td>\n",
       "      <td>{'C': 10, 'gamma': 0.01}</td>\n",
       "      <td>0.943218</td>\n",
       "      <td>0.955836</td>\n",
       "      <td>0.943218</td>\n",
       "      <td>...</td>\n",
       "      <td>0.938075</td>\n",
       "      <td>0.012343</td>\n",
       "      <td>4</td>\n",
       "      <td>0.970774</td>\n",
       "      <td>0.971564</td>\n",
       "      <td>0.972354</td>\n",
       "      <td>0.973954</td>\n",
       "      <td>0.973165</td>\n",
       "      <td>0.972362</td>\n",
       "      <td>0.001126</td>\n",
       "    </tr>\n",
       "    <tr>\n",
       "      <th>4</th>\n",
       "      <td>0.033553</td>\n",
       "      <td>0.001036</td>\n",
       "      <td>0.006594</td>\n",
       "      <td>0.000495</td>\n",
       "      <td>10</td>\n",
       "      <td>0.001</td>\n",
       "      <td>{'C': 10, 'gamma': 0.001}</td>\n",
       "      <td>0.832808</td>\n",
       "      <td>0.867508</td>\n",
       "      <td>0.867508</td>\n",
       "      <td>...</td>\n",
       "      <td>0.847742</td>\n",
       "      <td>0.020139</td>\n",
       "      <td>8</td>\n",
       "      <td>0.863349</td>\n",
       "      <td>0.871248</td>\n",
       "      <td>0.865719</td>\n",
       "      <td>0.877664</td>\n",
       "      <td>0.875296</td>\n",
       "      <td>0.870655</td>\n",
       "      <td>0.005454</td>\n",
       "    </tr>\n",
       "    <tr>\n",
       "      <th>5</th>\n",
       "      <td>0.048929</td>\n",
       "      <td>0.000619</td>\n",
       "      <td>0.008586</td>\n",
       "      <td>0.000483</td>\n",
       "      <td>10</td>\n",
       "      <td>0.0001</td>\n",
       "      <td>{'C': 10, 'gamma': 0.0001}</td>\n",
       "      <td>0.684543</td>\n",
       "      <td>0.615142</td>\n",
       "      <td>0.608833</td>\n",
       "      <td>...</td>\n",
       "      <td>0.634868</td>\n",
       "      <td>0.043198</td>\n",
       "      <td>10</td>\n",
       "      <td>0.659558</td>\n",
       "      <td>0.637441</td>\n",
       "      <td>0.627962</td>\n",
       "      <td>0.655880</td>\n",
       "      <td>0.667719</td>\n",
       "      <td>0.649712</td>\n",
       "      <td>0.014716</td>\n",
       "    </tr>\n",
       "    <tr>\n",
       "      <th>6</th>\n",
       "      <td>0.026212</td>\n",
       "      <td>0.001159</td>\n",
       "      <td>0.003001</td>\n",
       "      <td>0.000021</td>\n",
       "      <td>100</td>\n",
       "      <td>0.01</td>\n",
       "      <td>{'C': 100, 'gamma': 0.01}</td>\n",
       "      <td>0.958991</td>\n",
       "      <td>0.955836</td>\n",
       "      <td>0.958991</td>\n",
       "      <td>...</td>\n",
       "      <td>0.947548</td>\n",
       "      <td>0.013126</td>\n",
       "      <td>2</td>\n",
       "      <td>0.995261</td>\n",
       "      <td>0.995261</td>\n",
       "      <td>0.995261</td>\n",
       "      <td>0.997632</td>\n",
       "      <td>0.994475</td>\n",
       "      <td>0.995578</td>\n",
       "      <td>0.001071</td>\n",
       "    </tr>\n",
       "    <tr>\n",
       "      <th>7</th>\n",
       "      <td>0.027001</td>\n",
       "      <td>0.000584</td>\n",
       "      <td>0.004196</td>\n",
       "      <td>0.000396</td>\n",
       "      <td>100</td>\n",
       "      <td>0.001</td>\n",
       "      <td>{'C': 100, 'gamma': 0.001}</td>\n",
       "      <td>0.936909</td>\n",
       "      <td>0.933754</td>\n",
       "      <td>0.936909</td>\n",
       "      <td>...</td>\n",
       "      <td>0.931134</td>\n",
       "      <td>0.009943</td>\n",
       "      <td>5</td>\n",
       "      <td>0.950237</td>\n",
       "      <td>0.947077</td>\n",
       "      <td>0.943918</td>\n",
       "      <td>0.950276</td>\n",
       "      <td>0.944751</td>\n",
       "      <td>0.947252</td>\n",
       "      <td>0.002663</td>\n",
       "    </tr>\n",
       "    <tr>\n",
       "      <th>8</th>\n",
       "      <td>0.033820</td>\n",
       "      <td>0.000719</td>\n",
       "      <td>0.006969</td>\n",
       "      <td>0.000634</td>\n",
       "      <td>100</td>\n",
       "      <td>0.0001</td>\n",
       "      <td>{'C': 100, 'gamma': 0.0001}</td>\n",
       "      <td>0.829653</td>\n",
       "      <td>0.861199</td>\n",
       "      <td>0.861199</td>\n",
       "      <td>...</td>\n",
       "      <td>0.843321</td>\n",
       "      <td>0.018926</td>\n",
       "      <td>9</td>\n",
       "      <td>0.852291</td>\n",
       "      <td>0.865719</td>\n",
       "      <td>0.860190</td>\n",
       "      <td>0.870560</td>\n",
       "      <td>0.870560</td>\n",
       "      <td>0.863864</td>\n",
       "      <td>0.006936</td>\n",
       "    </tr>\n",
       "    <tr>\n",
       "      <th>9</th>\n",
       "      <td>0.027616</td>\n",
       "      <td>0.000812</td>\n",
       "      <td>0.002593</td>\n",
       "      <td>0.000488</td>\n",
       "      <td>1000</td>\n",
       "      <td>0.01</td>\n",
       "      <td>{'C': 1000, 'gamma': 0.01}</td>\n",
       "      <td>0.943218</td>\n",
       "      <td>0.955836</td>\n",
       "      <td>0.962145</td>\n",
       "      <td>...</td>\n",
       "      <td>0.943126</td>\n",
       "      <td>0.018712</td>\n",
       "      <td>3</td>\n",
       "      <td>1.000000</td>\n",
       "      <td>1.000000</td>\n",
       "      <td>1.000000</td>\n",
       "      <td>1.000000</td>\n",
       "      <td>1.000000</td>\n",
       "      <td>1.000000</td>\n",
       "      <td>0.000000</td>\n",
       "    </tr>\n",
       "    <tr>\n",
       "      <th>10</th>\n",
       "      <td>0.027819</td>\n",
       "      <td>0.001163</td>\n",
       "      <td>0.002206</td>\n",
       "      <td>0.000393</td>\n",
       "      <td>1000</td>\n",
       "      <td>0.001</td>\n",
       "      <td>{'C': 1000, 'gamma': 0.001}</td>\n",
       "      <td>0.955836</td>\n",
       "      <td>0.949527</td>\n",
       "      <td>0.955836</td>\n",
       "      <td>...</td>\n",
       "      <td>0.950088</td>\n",
       "      <td>0.008620</td>\n",
       "      <td>1</td>\n",
       "      <td>0.986572</td>\n",
       "      <td>0.979463</td>\n",
       "      <td>0.983412</td>\n",
       "      <td>0.989740</td>\n",
       "      <td>0.981847</td>\n",
       "      <td>0.984207</td>\n",
       "      <td>0.003603</td>\n",
       "    </tr>\n",
       "    <tr>\n",
       "      <th>11</th>\n",
       "      <td>0.027594</td>\n",
       "      <td>0.001196</td>\n",
       "      <td>0.004392</td>\n",
       "      <td>0.000487</td>\n",
       "      <td>1000</td>\n",
       "      <td>0.0001</td>\n",
       "      <td>{'C': 1000, 'gamma': 0.0001}</td>\n",
       "      <td>0.921136</td>\n",
       "      <td>0.914826</td>\n",
       "      <td>0.930599</td>\n",
       "      <td>...</td>\n",
       "      <td>0.916603</td>\n",
       "      <td>0.008717</td>\n",
       "      <td>6</td>\n",
       "      <td>0.931280</td>\n",
       "      <td>0.933649</td>\n",
       "      <td>0.928910</td>\n",
       "      <td>0.939227</td>\n",
       "      <td>0.925809</td>\n",
       "      <td>0.931775</td>\n",
       "      <td>0.004541</td>\n",
       "    </tr>\n",
       "  </tbody>\n",
       "</table>\n",
       "<p>12 rows × 22 columns</p>\n",
       "</div>"
      ],
      "text/plain": [
       "    mean_fit_time  std_fit_time  mean_score_time  std_score_time param_C  \\\n",
       "0        0.036830      0.002683         0.007379        0.000469       1   \n",
       "1        0.053393      0.002585         0.008981        0.000631       1   \n",
       "2        0.054077      0.001134         0.008804        0.000407       1   \n",
       "3        0.027316      0.001352         0.004182        0.000402      10   \n",
       "4        0.033553      0.001036         0.006594        0.000495      10   \n",
       "5        0.048929      0.000619         0.008586        0.000483      10   \n",
       "6        0.026212      0.001159         0.003001        0.000021     100   \n",
       "7        0.027001      0.000584         0.004196        0.000396     100   \n",
       "8        0.033820      0.000719         0.006969        0.000634     100   \n",
       "9        0.027616      0.000812         0.002593        0.000488    1000   \n",
       "10       0.027819      0.001163         0.002206        0.000393    1000   \n",
       "11       0.027594      0.001196         0.004392        0.000487    1000   \n",
       "\n",
       "   param_gamma                        params  split0_test_score  \\\n",
       "0         0.01       {'C': 1, 'gamma': 0.01}           0.854890   \n",
       "1        0.001      {'C': 1, 'gamma': 0.001}           0.678233   \n",
       "2       0.0001     {'C': 1, 'gamma': 0.0001}           0.507886   \n",
       "3         0.01      {'C': 10, 'gamma': 0.01}           0.943218   \n",
       "4        0.001     {'C': 10, 'gamma': 0.001}           0.832808   \n",
       "5       0.0001    {'C': 10, 'gamma': 0.0001}           0.684543   \n",
       "6         0.01     {'C': 100, 'gamma': 0.01}           0.958991   \n",
       "7        0.001    {'C': 100, 'gamma': 0.001}           0.936909   \n",
       "8       0.0001   {'C': 100, 'gamma': 0.0001}           0.829653   \n",
       "9         0.01    {'C': 1000, 'gamma': 0.01}           0.943218   \n",
       "10       0.001   {'C': 1000, 'gamma': 0.001}           0.955836   \n",
       "11      0.0001  {'C': 1000, 'gamma': 0.0001}           0.921136   \n",
       "\n",
       "    split1_test_score  split2_test_score  ...  mean_test_score  \\\n",
       "0            0.873817           0.899054  ...         0.862894   \n",
       "1            0.605678           0.602524  ...         0.632350   \n",
       "2            0.457413           0.454259  ...         0.457329   \n",
       "3            0.955836           0.943218  ...         0.938075   \n",
       "4            0.867508           0.867508  ...         0.847742   \n",
       "5            0.615142           0.608833  ...         0.634868   \n",
       "6            0.955836           0.958991  ...         0.947548   \n",
       "7            0.933754           0.936909  ...         0.931134   \n",
       "8            0.861199           0.861199  ...         0.843321   \n",
       "9            0.955836           0.962145  ...         0.943126   \n",
       "10           0.949527           0.955836  ...         0.950088   \n",
       "11           0.914826           0.930599  ...         0.916603   \n",
       "\n",
       "    std_test_score  rank_test_score  split0_train_score  split1_train_score  \\\n",
       "0         0.023918                7            0.886256            0.881517   \n",
       "1         0.044489               11            0.651659            0.631122   \n",
       "2         0.042010               12            0.444708            0.457346   \n",
       "3         0.012343                4            0.970774            0.971564   \n",
       "4         0.020139                8            0.863349            0.871248   \n",
       "5         0.043198               10            0.659558            0.637441   \n",
       "6         0.013126                2            0.995261            0.995261   \n",
       "7         0.009943                5            0.950237            0.947077   \n",
       "8         0.018926                9            0.852291            0.865719   \n",
       "9         0.018712                3            1.000000            1.000000   \n",
       "10        0.008620                1            0.986572            0.979463   \n",
       "11        0.008717                6            0.931280            0.933649   \n",
       "\n",
       "    split2_train_score  split3_train_score  split4_train_score  \\\n",
       "0             0.882306            0.888713            0.889503   \n",
       "1             0.627962            0.653512            0.662194   \n",
       "2             0.458136            0.475927            0.450671   \n",
       "3             0.972354            0.973954            0.973165   \n",
       "4             0.865719            0.877664            0.875296   \n",
       "5             0.627962            0.655880            0.667719   \n",
       "6             0.995261            0.997632            0.994475   \n",
       "7             0.943918            0.950276            0.944751   \n",
       "8             0.860190            0.870560            0.870560   \n",
       "9             1.000000            1.000000            1.000000   \n",
       "10            0.983412            0.989740            0.981847   \n",
       "11            0.928910            0.939227            0.925809   \n",
       "\n",
       "    mean_train_score  std_train_score  \n",
       "0           0.885659         0.003251  \n",
       "1           0.645290         0.013378  \n",
       "2           0.457358         0.010490  \n",
       "3           0.972362         0.001126  \n",
       "4           0.870655         0.005454  \n",
       "5           0.649712         0.014716  \n",
       "6           0.995578         0.001071  \n",
       "7           0.947252         0.002663  \n",
       "8           0.863864         0.006936  \n",
       "9           1.000000         0.000000  \n",
       "10          0.984207         0.003603  \n",
       "11          0.931775         0.004541  \n",
       "\n",
       "[12 rows x 22 columns]"
      ]
     },
     "execution_count": 53,
     "metadata": {},
     "output_type": "execute_result"
    }
   ],
   "source": [
    "#Results of grid search CV\n",
    "cv_results = pd.DataFrame(model_cv.cv_results_)\n",
    "cv_results"
   ]
  },
  {
   "cell_type": "markdown",
   "metadata": {},
   "source": [
    "To get a better sense of how training and test accuracy varies with C, plot the tranining and test accuracies againt C."
   ]
  },
  {
   "cell_type": "code",
   "execution_count": 54,
   "metadata": {
    "scrolled": true
   },
   "outputs": [
    {
     "data": {
      "image/png": "[encoded data removed]",
      "text/plain": [
       "<Figure size 1152x432 with 3 Axes>"
      ]
     },
     "metadata": {
      "needs_background": "light"
     },
     "output_type": "display_data"
    }
   ],
   "source": [
    "#Converting C to numeric type for plotting on x-axis\n",
    "cv_results['param_C'] = cv_results['param_C'].astype('int')\n",
    "\n",
    "#Plotting\n",
    "plt.figure(figsize=(16,6))\n",
    "\n",
    "#Subplot 1/3\n",
    "plt.subplot(131)\n",
    "gamma_01 = cv_results[cv_results['param_gamma']==0.01]\n",
    "\n",
    "\n",
    "plt.plot(gamma_01['param_C'], gamma_01['mean_test_score'])\n",
    "plt.plot(gamma_01['param_C'], gamma_01['mean_train_score'])\n",
    "plt.xlabel('C')\n",
    "plt.ylabel('Accuracy')\n",
    "plt.title('Gamma=0.01')\n",
    "plt.ylim([0.80,1])\n",
    "plt.legend(['test accuracy', 'train accuracy'], loc = 'upper left')\n",
    "plt.xscale('log')\n",
    "\n",
    "#Subplot 2/3\n",
    "plt.subplot(132)\n",
    "gamma_001 = cv_results[cv_results['param_gamma']==0.001]\n",
    "\n",
    "\n",
    "plt.plot(gamma_001['param_C'], gamma_001['mean_test_score'])\n",
    "plt.plot(gamma_001['param_C'], gamma_001['mean_train_score'])\n",
    "plt.xlabel('C')\n",
    "plt.ylabel('Accuracy')\n",
    "plt.title('Gamma=0.001')\n",
    "plt.ylim([0.80,1])\n",
    "plt.legend(['test accuracy', 'train accuracy'], loc = 'upper left')\n",
    "plt.xscale('log')\n",
    "\n",
    "#Subplot 3/3\n",
    "plt.subplot(133)\n",
    "gamma_0001 = cv_results[cv_results['param_gamma']==0.0001]\n",
    "\n",
    "\n",
    "plt.plot(gamma_0001['param_C'], gamma_0001['mean_test_score'])\n",
    "plt.plot(gamma_0001['param_C'], gamma_0001['mean_train_score'])\n",
    "plt.xlabel('C')\n",
    "plt.ylabel('Accuracy')\n",
    "plt.title('Gamma=0.0001')\n",
    "plt.ylim([0.80,1])\n",
    "plt.legend(['test accuracy', 'train accuracy'], loc = 'upper left')\n",
    "plt.xscale('log')"
   ]
  },
  {
   "cell_type": "code",
   "execution_count": 55,
   "metadata": {},
   "outputs": [
    {
     "name": "stdout",
     "output_type": "stream",
     "text": [
      "[[ 65   3   0   0]\n",
      " [  3  69   6   0]\n",
      " [  0   3 128   3]\n",
      " [  0   0   3 245]] \n",
      "\n",
      "Accuracy : 0.9602272727272727\n",
      "Precision Score : 0.9601459854014598\n",
      "Recall Score : 0.9602272727272727\n"
     ]
    }
   ],
   "source": [
    "#Specify optimal hyperparameters\n",
    "best_params = {'C':1000, 'gamma': 0.001, 'kernel':'rbf'}\n",
    "\n",
    "#Model\n",
    "final_model = SVC(C=1000, gamma=0.001, kernel='rbf')\n",
    "\n",
    "final_model.fit(X_train, y_train)\n",
    "y_pred = final_model.predict(X_test)\n",
    "\n",
    "\n",
    "\n",
    "#Print other metrics\n",
    "print(metrics.confusion_matrix(y_test, y_pred), '\\n')\n",
    "print('Accuracy :', metrics.accuracy_score(y_test, y_pred))\n",
    "print('Precision Score :',metrics.precision_score(y_test, y_pred, average='weighted'))\n",
    "print('Recall Score :',metrics.recall_score(y_test, y_pred, average='weighted'))"
   ]
  },
  {
   "cell_type": "code",
   "execution_count": 56,
   "metadata": {},
   "outputs": [
    {
     "name": "stdout",
     "output_type": "stream",
     "text": [
      "              precision    recall  f1-score   support\n",
      "\n",
      "           0       0.96      0.96      0.96        68\n",
      "           1       0.92      0.88      0.90        78\n",
      "           2       0.93      0.96      0.94       134\n",
      "           3       0.99      0.99      0.99       248\n",
      "\n",
      "    accuracy                           0.96       528\n",
      "   macro avg       0.95      0.95      0.95       528\n",
      "weighted avg       0.96      0.96      0.96       528\n",
      "\n"
     ]
    }
   ],
   "source": [
    "# Calculate classification report\n",
    "from sklearn.metrics import classification_report\n",
    "predictions = final_model.predict(X_test)\n",
    "print(classification_report(y_test, predictions,\n",
    "                            target_names=target_names))"
   ]
  },
  {
   "cell_type": "code",
   "execution_count": 67,
   "metadata": {},
   "outputs": [
    {
     "data": {
      "text/plain": [
       "['svm_rbf_trained.joblib']"
      ]
     },
     "execution_count": 67,
     "metadata": {},
     "output_type": "execute_result"
    }
   ],
   "source": [
    "#Saving the model\n",
    "from joblib import dump, load\n",
    "dump(final_model, 'svm_rbf_trained.joblib') "
   ]
  },
  {
   "cell_type": "code",
   "execution_count": 69,
   "metadata": {},
   "outputs": [],
   "source": [
    "#Test loading the model\n",
    "final_model_uplo = load('svm_rbf_trained.joblib')"
   ]
  },
  {
   "cell_type": "code",
   "execution_count": 70,
   "metadata": {},
   "outputs": [
    {
     "name": "stdout",
     "output_type": "stream",
     "text": [
      "              precision    recall  f1-score   support\n",
      "\n",
      "           0       0.96      0.96      0.96        68\n",
      "           1       0.92      0.88      0.90        78\n",
      "           2       0.93      0.96      0.94       134\n",
      "           3       0.99      0.99      0.99       248\n",
      "\n",
      "    accuracy                           0.96       528\n",
      "   macro avg       0.95      0.95      0.95       528\n",
      "weighted avg       0.96      0.96      0.96       528\n",
      "\n"
     ]
    }
   ],
   "source": [
    "# Calculate classification report for loaded model\n",
    "from sklearn.metrics import classification_report\n",
    "predictions = final_model_2.predict(X_test)\n",
    "print(classification_report(y_test, predictions,\n",
    "                            target_names=target_names))"
   ]
  },
  {
   "cell_type": "code",
   "execution_count": null,
   "metadata": {},
   "outputs": [],
   "source": []
  }
 ],
 "metadata": {
  "kernelspec": {
   "display_name": "Python 3",
   "language": "python",
   "name": "python3"
  },
  "language_info": {
   "codemirror_mode": {
    "name": "ipython",
    "version": 3
   },
   "file_extension": ".py",
   "mimetype": "text/x-python",
   "name": "python",
   "nbconvert_exporter": "python",
   "pygments_lexer": "ipython3",
   "version": "3.8.3"
  }
 },
 "nbformat": 4,
 "nbformat_minor": 4
}
