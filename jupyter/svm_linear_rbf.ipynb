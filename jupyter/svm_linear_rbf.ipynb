{
 "cells": [
  {
   "cell_type": "code",
   "execution_count": 34,
   "metadata": {},
   "outputs": [],
   "source": [
    "import matplotlib.pyplot as plt\n",
    "import pandas as pd\n",
    "import numpy as np\n",
    "import os\n",
    "import seaborn as sns\n",
    "\n",
    "# %matplotlib notebook"
   ]
  },
  {
   "cell_type": "code",
   "execution_count": 35,
   "metadata": {},
   "outputs": [],
   "source": [
    "from sklearn.model_selection import train_test_split\n",
    "from sklearn.svm import SVC \n",
    "from sklearn.metrics import confusion_matrix\n",
    "\n",
    "from sklearn.model_selection import validation_curve\n",
    "from sklearn.model_selection import KFold\n",
    "from sklearn.model_selection import cross_val_score\n",
    "from sklearn.model_selection import GridSearchCV"
   ]
  },
  {
   "cell_type": "code",
   "execution_count": 36,
   "metadata": {},
   "outputs": [
    {
     "data": {
      "text/html": [
       "<div>\n",
       "<style scoped>\n",
       "    .dataframe tbody tr th:only-of-type {\n",
       "        vertical-align: middle;\n",
       "    }\n",
       "\n",
       "    .dataframe tbody tr th {\n",
       "        vertical-align: top;\n",
       "    }\n",
       "\n",
       "    .dataframe thead th {\n",
       "        text-align: right;\n",
       "    }\n",
       "</style>\n",
       "<table border=\"1\" class=\"dataframe\">\n",
       "  <thead>\n",
       "    <tr style=\"text-align: right;\">\n",
       "      <th></th>\n",
       "      <th>Gender</th>\n",
       "      <th>Age</th>\n",
       "      <th>Height</th>\n",
       "      <th>Weight</th>\n",
       "      <th>family_history_with_overweight</th>\n",
       "      <th>FAVC</th>\n",
       "      <th>FCVC</th>\n",
       "      <th>NCP</th>\n",
       "      <th>CAEC</th>\n",
       "      <th>SMOKE</th>\n",
       "      <th>CH2O</th>\n",
       "      <th>SCC</th>\n",
       "      <th>FAF</th>\n",
       "      <th>TUE</th>\n",
       "      <th>CALC</th>\n",
       "      <th>MTRANS</th>\n",
       "      <th>NObeyesdad</th>\n",
       "    </tr>\n",
       "  </thead>\n",
       "  <tbody>\n",
       "    <tr>\n",
       "      <th>0</th>\n",
       "      <td>0</td>\n",
       "      <td>21.0</td>\n",
       "      <td>1.6</td>\n",
       "      <td>64.0</td>\n",
       "      <td>1</td>\n",
       "      <td>0</td>\n",
       "      <td>1</td>\n",
       "      <td>2.0</td>\n",
       "      <td>1</td>\n",
       "      <td>0</td>\n",
       "      <td>1</td>\n",
       "      <td>0</td>\n",
       "      <td>0</td>\n",
       "      <td>1</td>\n",
       "      <td>0</td>\n",
       "      <td>3</td>\n",
       "      <td>1</td>\n",
       "    </tr>\n",
       "    <tr>\n",
       "      <th>1</th>\n",
       "      <td>0</td>\n",
       "      <td>21.0</td>\n",
       "      <td>1.5</td>\n",
       "      <td>56.0</td>\n",
       "      <td>1</td>\n",
       "      <td>0</td>\n",
       "      <td>2</td>\n",
       "      <td>2.0</td>\n",
       "      <td>1</td>\n",
       "      <td>1</td>\n",
       "      <td>2</td>\n",
       "      <td>1</td>\n",
       "      <td>3</td>\n",
       "      <td>0</td>\n",
       "      <td>1</td>\n",
       "      <td>3</td>\n",
       "      <td>1</td>\n",
       "    </tr>\n",
       "    <tr>\n",
       "      <th>2</th>\n",
       "      <td>1</td>\n",
       "      <td>23.0</td>\n",
       "      <td>1.8</td>\n",
       "      <td>77.0</td>\n",
       "      <td>1</td>\n",
       "      <td>0</td>\n",
       "      <td>1</td>\n",
       "      <td>2.0</td>\n",
       "      <td>1</td>\n",
       "      <td>0</td>\n",
       "      <td>1</td>\n",
       "      <td>0</td>\n",
       "      <td>2</td>\n",
       "      <td>1</td>\n",
       "      <td>2</td>\n",
       "      <td>3</td>\n",
       "      <td>1</td>\n",
       "    </tr>\n",
       "    <tr>\n",
       "      <th>3</th>\n",
       "      <td>1</td>\n",
       "      <td>27.0</td>\n",
       "      <td>1.8</td>\n",
       "      <td>87.0</td>\n",
       "      <td>0</td>\n",
       "      <td>0</td>\n",
       "      <td>2</td>\n",
       "      <td>2.0</td>\n",
       "      <td>1</td>\n",
       "      <td>0</td>\n",
       "      <td>1</td>\n",
       "      <td>0</td>\n",
       "      <td>2</td>\n",
       "      <td>0</td>\n",
       "      <td>2</td>\n",
       "      <td>4</td>\n",
       "      <td>2</td>\n",
       "    </tr>\n",
       "    <tr>\n",
       "      <th>4</th>\n",
       "      <td>1</td>\n",
       "      <td>22.0</td>\n",
       "      <td>1.8</td>\n",
       "      <td>89.8</td>\n",
       "      <td>0</td>\n",
       "      <td>0</td>\n",
       "      <td>1</td>\n",
       "      <td>0.0</td>\n",
       "      <td>1</td>\n",
       "      <td>0</td>\n",
       "      <td>1</td>\n",
       "      <td>0</td>\n",
       "      <td>0</td>\n",
       "      <td>0</td>\n",
       "      <td>1</td>\n",
       "      <td>3</td>\n",
       "      <td>2</td>\n",
       "    </tr>\n",
       "  </tbody>\n",
       "</table>\n",
       "</div>"
      ],
      "text/plain": [
       "   Gender   Age  Height  Weight  family_history_with_overweight  FAVC  FCVC  \\\n",
       "0       0  21.0     1.6    64.0                               1     0     1   \n",
       "1       0  21.0     1.5    56.0                               1     0     2   \n",
       "2       1  23.0     1.8    77.0                               1     0     1   \n",
       "3       1  27.0     1.8    87.0                               0     0     2   \n",
       "4       1  22.0     1.8    89.8                               0     0     1   \n",
       "\n",
       "   NCP  CAEC  SMOKE  CH2O  SCC  FAF  TUE  CALC  MTRANS  NObeyesdad  \n",
       "0  2.0     1      0     1    0    0    1     0       3           1  \n",
       "1  2.0     1      1     2    1    3    0     1       3           1  \n",
       "2  2.0     1      0     1    0    2    1     2       3           1  \n",
       "3  2.0     1      0     1    0    2    0     2       4           2  \n",
       "4  0.0     1      0     1    0    0    0     1       3           2  "
      ]
     },
     "execution_count": 36,
     "metadata": {},
     "output_type": "execute_result"
    }
   ],
   "source": [
    "df = pd.read_csv(os.path.join(\"..\", \"data\", \"obesity_numeric.csv\"))\n",
    "df.head()"
   ]
  },
  {
   "cell_type": "code",
   "execution_count": 37,
   "metadata": {},
   "outputs": [
    {
     "name": "stdout",
     "output_type": "stream",
     "text": [
      "(2111, 17)\n"
     ]
    }
   ],
   "source": [
    "#Checking dimensions of df\n",
    "print(df.shape)"
   ]
  },
  {
   "cell_type": "code",
   "execution_count": 38,
   "metadata": {},
   "outputs": [
    {
     "name": "stdout",
     "output_type": "stream",
     "text": [
      "Index(['Gender', 'Age', 'Height', 'Weight', 'family_history_with_overweight',\n",
      "       'FAVC', 'FCVC', 'NCP', 'CAEC', 'SMOKE', 'CH2O', 'SCC', 'FAF', 'TUE',\n",
      "       'CALC', 'MTRANS', 'NObeyesdad'],\n",
      "      dtype='object')\n"
     ]
    }
   ],
   "source": [
    "#Checking columns\n",
    "print(df.columns)"
   ]
  },
  {
   "cell_type": "code",
   "execution_count": 39,
   "metadata": {},
   "outputs": [],
   "source": [
    "#Convert int to float type \n",
    "df = df.astype({'Gender':'float','family_history_with_overweight':'float', 'FAVC':'float',\\\n",
    "                    'FCVC':'float', 'CAEC':'float', 'SMOKE':'float','CH2O':'float', 'SCC':'float',\\\n",
    "                    'FAF':'float', 'TUE':'float', 'CALC':'float', 'MTRANS':'float', 'NObeyesdad':'int64'})  "
   ]
  },
  {
   "cell_type": "code",
   "execution_count": 40,
   "metadata": {},
   "outputs": [
    {
     "name": "stdout",
     "output_type": "stream",
     "text": [
      "<class 'pandas.core.frame.DataFrame'>\n",
      "RangeIndex: 2111 entries, 0 to 2110\n",
      "Data columns (total 17 columns):\n",
      " #   Column                          Non-Null Count  Dtype  \n",
      "---  ------                          --------------  -----  \n",
      " 0   Gender                          2111 non-null   float64\n",
      " 1   Age                             2111 non-null   float64\n",
      " 2   Height                          2111 non-null   float64\n",
      " 3   Weight                          2111 non-null   float64\n",
      " 4   family_history_with_overweight  2111 non-null   float64\n",
      " 5   FAVC                            2111 non-null   float64\n",
      " 6   FCVC                            2111 non-null   float64\n",
      " 7   NCP                             2111 non-null   float64\n",
      " 8   CAEC                            2111 non-null   float64\n",
      " 9   SMOKE                           2111 non-null   float64\n",
      " 10  CH2O                            2111 non-null   float64\n",
      " 11  SCC                             2111 non-null   float64\n",
      " 12  FAF                             2111 non-null   float64\n",
      " 13  TUE                             2111 non-null   float64\n",
      " 14  CALC                            2111 non-null   float64\n",
      " 15  MTRANS                          2111 non-null   float64\n",
      " 16  NObeyesdad                      2111 non-null   int64  \n",
      "dtypes: float64(16), int64(1)\n",
      "memory usage: 280.5 KB\n"
     ]
    }
   ],
   "source": [
    "#Checking that the data types are correct\n",
    "df.info()"
   ]
  },
  {
   "cell_type": "code",
   "execution_count": 41,
   "metadata": {},
   "outputs": [
    {
     "name": "stdout",
     "output_type": "stream",
     "text": [
      "[0, 1, 2, 3]\n"
     ]
    },
    {
     "data": {
      "text/plain": [
       "<matplotlib.axes._subplots.AxesSubplot at 0x1af8b33a760>"
      ]
     },
     "execution_count": 41,
     "metadata": {},
     "output_type": "execute_result"
    },
    {
     "data": {
      "image/png": "[encoded data removed]",
      "text/plain": [
       "<Figure size 1152x576 with 1 Axes>"
      ]
     },
     "metadata": {
      "needs_background": "light"
     },
     "output_type": "display_data"
    }
   ],
   "source": [
    "#basic plots : How do various attributes vary with the obesity levels\n",
    "#shows the ditribution of our data (mostly obese)\n",
    "\n",
    "order = list(np.sort(df['NObeyesdad'].unique()))\n",
    "print(order)\n",
    "\n",
    "plt.figure(figsize=(16,8))\n",
    "sns.barplot(x='NObeyesdad', y='Weight',\n",
    "           data=df,\n",
    "           order=order)"
   ]
  },
  {
   "cell_type": "code",
   "execution_count": 42,
   "metadata": {},
   "outputs": [
    {
     "data": {
      "text/html": [
       "<div>\n",
       "<style scoped>\n",
       "    .dataframe tbody tr th:only-of-type {\n",
       "        vertical-align: middle;\n",
       "    }\n",
       "\n",
       "    .dataframe tbody tr th {\n",
       "        vertical-align: top;\n",
       "    }\n",
       "\n",
       "    .dataframe thead th {\n",
       "        text-align: right;\n",
       "    }\n",
       "</style>\n",
       "<table border=\"1\" class=\"dataframe\">\n",
       "  <thead>\n",
       "    <tr style=\"text-align: right;\">\n",
       "      <th></th>\n",
       "      <th>Gender</th>\n",
       "      <th>Age</th>\n",
       "      <th>Height</th>\n",
       "      <th>Weight</th>\n",
       "      <th>family_history_with_overweight</th>\n",
       "      <th>FAVC</th>\n",
       "      <th>FCVC</th>\n",
       "      <th>NCP</th>\n",
       "      <th>CAEC</th>\n",
       "      <th>SMOKE</th>\n",
       "      <th>CH2O</th>\n",
       "      <th>SCC</th>\n",
       "      <th>FAF</th>\n",
       "      <th>TUE</th>\n",
       "      <th>CALC</th>\n",
       "      <th>MTRANS</th>\n",
       "    </tr>\n",
       "    <tr>\n",
       "      <th>NObeyesdad</th>\n",
       "      <th></th>\n",
       "      <th></th>\n",
       "      <th></th>\n",
       "      <th></th>\n",
       "      <th></th>\n",
       "      <th></th>\n",
       "      <th></th>\n",
       "      <th></th>\n",
       "      <th></th>\n",
       "      <th></th>\n",
       "      <th></th>\n",
       "      <th></th>\n",
       "      <th></th>\n",
       "      <th></th>\n",
       "      <th></th>\n",
       "      <th></th>\n",
       "    </tr>\n",
       "  </thead>\n",
       "  <tbody>\n",
       "    <tr>\n",
       "      <th>0</th>\n",
       "      <td>0.363971</td>\n",
       "      <td>19.761029</td>\n",
       "      <td>1.690809</td>\n",
       "      <td>49.906985</td>\n",
       "      <td>0.463235</td>\n",
       "      <td>0.812500</td>\n",
       "      <td>1.514706</td>\n",
       "      <td>2.191176</td>\n",
       "      <td>1.448529</td>\n",
       "      <td>0.003676</td>\n",
       "      <td>0.860294</td>\n",
       "      <td>0.080882</td>\n",
       "      <td>1.246324</td>\n",
       "      <td>0.841912</td>\n",
       "      <td>0.573529</td>\n",
       "      <td>2.514706</td>\n",
       "    </tr>\n",
       "    <tr>\n",
       "      <th>1</th>\n",
       "      <td>0.508711</td>\n",
       "      <td>21.738676</td>\n",
       "      <td>1.677352</td>\n",
       "      <td>62.155052</td>\n",
       "      <td>0.540070</td>\n",
       "      <td>0.724739</td>\n",
       "      <td>1.334495</td>\n",
       "      <td>1.839721</td>\n",
       "      <td>1.498258</td>\n",
       "      <td>0.045296</td>\n",
       "      <td>0.850174</td>\n",
       "      <td>0.104530</td>\n",
       "      <td>1.247387</td>\n",
       "      <td>0.675958</td>\n",
       "      <td>0.696864</td>\n",
       "      <td>2.585366</td>\n",
       "    </tr>\n",
       "    <tr>\n",
       "      <th>2</th>\n",
       "      <td>0.572414</td>\n",
       "      <td>25.200000</td>\n",
       "      <td>1.694483</td>\n",
       "      <td>78.176552</td>\n",
       "      <td>0.829310</td>\n",
       "      <td>0.834483</td>\n",
       "      <td>1.268966</td>\n",
       "      <td>1.577586</td>\n",
       "      <td>1.017241</td>\n",
       "      <td>0.013793</td>\n",
       "      <td>1.044828</td>\n",
       "      <td>0.070690</td>\n",
       "      <td>1.015517</td>\n",
       "      <td>0.650000</td>\n",
       "      <td>0.753448</td>\n",
       "      <td>2.187931</td>\n",
       "    </tr>\n",
       "    <tr>\n",
       "      <th>3</th>\n",
       "      <td>0.505144</td>\n",
       "      <td>25.824074</td>\n",
       "      <td>1.715226</td>\n",
       "      <td>109.081687</td>\n",
       "      <td>0.991770</td>\n",
       "      <td>0.980453</td>\n",
       "      <td>1.516461</td>\n",
       "      <td>1.721193</td>\n",
       "      <td>1.022634</td>\n",
       "      <td>0.022634</td>\n",
       "      <td>1.088477</td>\n",
       "      <td>0.003086</td>\n",
       "      <td>0.863169</td>\n",
       "      <td>0.620370</td>\n",
       "      <td>0.772634</td>\n",
       "      <td>2.360082</td>\n",
       "    </tr>\n",
       "  </tbody>\n",
       "</table>\n",
       "</div>"
      ],
      "text/plain": [
       "              Gender        Age    Height      Weight  \\\n",
       "NObeyesdad                                              \n",
       "0           0.363971  19.761029  1.690809   49.906985   \n",
       "1           0.508711  21.738676  1.677352   62.155052   \n",
       "2           0.572414  25.200000  1.694483   78.176552   \n",
       "3           0.505144  25.824074  1.715226  109.081687   \n",
       "\n",
       "            family_history_with_overweight      FAVC      FCVC       NCP  \\\n",
       "NObeyesdad                                                                 \n",
       "0                                 0.463235  0.812500  1.514706  2.191176   \n",
       "1                                 0.540070  0.724739  1.334495  1.839721   \n",
       "2                                 0.829310  0.834483  1.268966  1.577586   \n",
       "3                                 0.991770  0.980453  1.516461  1.721193   \n",
       "\n",
       "                CAEC     SMOKE      CH2O       SCC       FAF       TUE  \\\n",
       "NObeyesdad                                                               \n",
       "0           1.448529  0.003676  0.860294  0.080882  1.246324  0.841912   \n",
       "1           1.498258  0.045296  0.850174  0.104530  1.247387  0.675958   \n",
       "2           1.017241  0.013793  1.044828  0.070690  1.015517  0.650000   \n",
       "3           1.022634  0.022634  1.088477  0.003086  0.863169  0.620370   \n",
       "\n",
       "                CALC    MTRANS  \n",
       "NObeyesdad                      \n",
       "0           0.573529  2.514706  \n",
       "1           0.696864  2.585366  \n",
       "2           0.753448  2.187931  \n",
       "3           0.772634  2.360082  "
      ]
     },
     "execution_count": 42,
     "metadata": {},
     "output_type": "execute_result"
    }
   ],
   "source": [
    "level_means = df.groupby('NObeyesdad').mean()\n",
    "level_means.head()"
   ]
  },
  {
   "cell_type": "code",
   "execution_count": 43,
   "metadata": {},
   "outputs": [
    {
     "data": {
      "text/plain": [
       "<matplotlib.axes._subplots.AxesSubplot at 0x1afd0d43f10>"
      ]
     },
     "execution_count": 43,
     "metadata": {},
     "output_type": "execute_result"
    },
    {
     "data": {
      "image/png": "[encoded data removed]",
      "text/plain": [
       "<Figure size 1296x720 with 2 Axes>"
      ]
     },
     "metadata": {
      "needs_background": "light"
     },
     "output_type": "display_data"
    }
   ],
   "source": [
    "#Shows we need to scale the data\n",
    "plt.figure(figsize=(18, 10))\n",
    "sns.heatmap(level_means)"
   ]
  },
  {
   "cell_type": "markdown",
   "metadata": {},
   "source": [
    "<h1>Data Preparation<h1>"
   ]
  },
  {
   "cell_type": "code",
   "execution_count": 55,
   "metadata": {},
   "outputs": [
    {
     "data": {
      "text/plain": [
       "Gender                             0.51\n",
       "Age                               24.32\n",
       "Height                             1.70\n",
       "Weight                            86.59\n",
       "family_history_with_overweight     0.82\n",
       "FAVC                               0.88\n",
       "FCVC                               1.42\n",
       "NCP                                1.76\n",
       "CAEC                               1.14\n",
       "SMOKE                              0.02\n",
       "CH2O                               1.01\n",
       "SCC                                0.05\n",
       "FAF                                1.01\n",
       "TUE                                0.66\n",
       "CALC                               0.73\n",
       "MTRANS                             2.36\n",
       "dtype: float64"
      ]
     },
     "execution_count": 55,
     "metadata": {},
     "output_type": "execute_result"
    }
   ],
   "source": [
    "#Averge feature values, shows there needs to be scaling\n",
    "round(df.drop('NObeyesdad', axis = 1).mean(), 2)"
   ]
  },
  {
   "cell_type": "code",
   "execution_count": 56,
   "metadata": {},
   "outputs": [],
   "source": [
    "#Assign X (data) and y (target)\n",
    "data = df.drop('NObeyesdad', axis = 1)\n",
    "target = df['NObeyesdad']"
   ]
  },
  {
   "cell_type": "code",
   "execution_count": 57,
   "metadata": {},
   "outputs": [],
   "source": [
    "#Scaling the features\n",
    "#Scale function standardises each column\n",
    "from sklearn.preprocessing import scale   \n",
    "data = scale(data)\n",
    "\n",
    "#Split into train and test\n",
    "X_train, X_test, y_train, y_test = train_test_split(data, target, test_size = 0.25, random_state = 42)"
   ]
  },
  {
   "cell_type": "code",
   "execution_count": 58,
   "metadata": {},
   "outputs": [
    {
     "name": "stdout",
     "output_type": "stream",
     "text": [
      "2.0675931775110548\n",
      "2.0643939393939394\n"
     ]
    }
   ],
   "source": [
    "#Confirm that splitting also has similar distribution of each obesity level\n",
    "print(y_train.mean())\n",
    "print(y_test.mean())"
   ]
  },
  {
   "cell_type": "markdown",
   "metadata": {},
   "source": [
    "<h1>Model Building<h1>"
   ]
  },
  {
   "cell_type": "markdown",
   "metadata": {},
   "source": [
    "Building 2 models (linear & non linear)"
   ]
  },
  {
   "cell_type": "code",
   "execution_count": 59,
   "metadata": {},
   "outputs": [],
   "source": [
    "#Linear model & fit\n",
    "model_linear = SVC(kernel = 'linear')\n",
    "model_linear.fit(X_train, y_train)\n",
    "\n",
    "#Predict\n",
    "y_pred = model_linear.predict(X_test)"
   ]
  },
  {
   "cell_type": "markdown",
   "metadata": {},
   "source": [
    "<h1>Model Evaluation Metrics<h1>"
   ]
  },
  {
   "cell_type": "code",
   "execution_count": 60,
   "metadata": {},
   "outputs": [
    {
     "data": {
      "text/plain": [
       "array([[ 67,   1,   0,   0],\n",
       "       [ 11,  61,   6,   0],\n",
       "       [  0,   3, 127,   4],\n",
       "       [  0,   0,   1, 247]], dtype=int64)"
      ]
     },
     "execution_count": 60,
     "metadata": {},
     "output_type": "execute_result"
    }
   ],
   "source": [
    "#Evaluate the model using confustion matrix\n",
    "from sklearn import metrics\n",
    "metrics.confusion_matrix(y_true=y_test, y_pred=y_pred)"
   ]
  },
  {
   "cell_type": "code",
   "execution_count": 69,
   "metadata": {},
   "outputs": [
    {
     "name": "stdout",
     "output_type": "stream",
     "text": [
      "Accuracy : 0.884469696969697\n",
      "Precision Score : 0.8841230829055504\n",
      "Recall Score : 0.884469696969697\n"
     ]
    }
   ],
   "source": [
    "#Print other metrics\n",
    "print('Accuracy :', metrics.accuracy_score(y_test, y_pred))\n",
    "print('Precision Score :',metrics.precision_score(y_test, y_pred, average='weighted'))\n",
    "print('Recall Score :',metrics.recall_score(y_test, y_pred, average='weighted'))"
   ]
  },
  {
   "cell_type": "code",
   "execution_count": 70,
   "metadata": {
    "scrolled": true
   },
   "outputs": [
    {
     "data": {
      "text/plain": [
       "0.8838969287340345"
      ]
     },
     "execution_count": 70,
     "metadata": {},
     "output_type": "execute_result"
    }
   ],
   "source": [
    "#F1 Score\n",
    "from sklearn.metrics import f1_score\n",
    "f1_score(y_test, y_pred, average='weighted') "
   ]
  },
  {
   "cell_type": "code",
   "execution_count": 71,
   "metadata": {},
   "outputs": [],
   "source": [
    "#Non_linear_model\n",
    "#using rbf kernel, C=a, default value of gamma\n",
    "\n",
    "\n",
    "#Model \n",
    "non_linear_model = SVC(kernel='rbf')\n",
    "\n",
    "#Fit\n",
    "non_linear_model.fit(X_train, y_train)\n",
    "\n",
    "#Predict\n",
    "y_pred = non_linear_model.predict(X_test)"
   ]
  },
  {
   "cell_type": "code",
   "execution_count": 72,
   "metadata": {},
   "outputs": [
    {
     "name": "stdout",
     "output_type": "stream",
     "text": [
      "Accuracy : 0.884469696969697\n",
      "Precision Score : 0.8841230829055504\n",
      "Recall Score : 0.884469696969697\n"
     ]
    }
   ],
   "source": [
    "#Print other metrics\n",
    "print('Accuracy :', metrics.accuracy_score(y_test, y_pred))\n",
    "print('Precision Score :',metrics.precision_score(y_test, y_pred, average='weighted'))\n",
    "print('Recall Score :',metrics.recall_score(y_test, y_pred, average='weighted'))"
   ]
  },
  {
   "cell_type": "markdown",
   "metadata": {},
   "source": [
    "<h1>Hyperparameter Tuning<h1>"
   ]
  },
  {
   "cell_type": "markdown",
   "metadata": {},
   "source": [
    "Now, we have multiple hyperparameters to optimise \\\n",
    "The chose of kernal (liner, rbf, etc)\\\n",
    "C\\\n",
    "gamma\\\n",
    "We will use the GridSearchCV() method to tune the hyperparameters\\"
   ]
  },
  {
   "cell_type": "markdown",
   "metadata": {},
   "source": [
    "<h1>Grid Search to find Optimal Hyperparameter<h1>"
   ]
  },
  {
   "cell_type": "code",
   "execution_count": 73,
   "metadata": {},
   "outputs": [
    {
     "name": "stdout",
     "output_type": "stream",
     "text": [
      "Fitting 5 folds for each of 12 candidates, totalling 60 fits\n"
     ]
    },
    {
     "name": "stderr",
     "output_type": "stream",
     "text": [
      "[Parallel(n_jobs=1)]: Using backend SequentialBackend with 1 concurrent workers.\n",
      "[Parallel(n_jobs=1)]: Done  60 out of  60 | elapsed:    3.8s finished\n"
     ]
    },
    {
     "data": {
      "text/plain": [
       "GridSearchCV(cv=KFold(n_splits=5, random_state=4, shuffle=True),\n",
       "             estimator=SVC(),\n",
       "             param_grid=[{'C': [1, 10, 100, 1000],\n",
       "                          'gamma': [0.01, 0.001, 0.0001]}],\n",
       "             return_train_score=True, scoring='accuracy', verbose=1)"
      ]
     },
     "execution_count": 73,
     "metadata": {},
     "output_type": "execute_result"
    }
   ],
   "source": [
    "#Does not touch the testing dataset, getting accuracy for each fold and averging the results\n",
    "#Creating a KFold object with 5 splits\n",
    "folds = KFold(n_splits = 5, shuffle = True, random_state = 4)\n",
    "\n",
    "#Specify range of hyperparameters\n",
    "#Set the parameters by corss-validation\n",
    "hyper_params = [{\n",
    "    'gamma' : [1e-2, 1e-3, 1e-4],\n",
    "    'C' : [1,10,100,1000]\n",
    "}]\n",
    "\n",
    "#specify model\n",
    "model = SVC(kernel = 'rbf')\n",
    "\n",
    "#Set up GridSearchCV()\n",
    "model_cv = GridSearchCV(estimator = model,\n",
    "                       param_grid = hyper_params,\n",
    "                       scoring = 'accuracy',\n",
    "                       cv = folds,\n",
    "                       verbose = 1,\n",
    "                       return_train_score = True)\n",
    "\n",
    "#Fit the model - it will fit 5 folds across all values of C\n",
    "model_cv.fit(X_train, y_train)\n"
   ]
  },
  {
   "cell_type": "code",
   "execution_count": 74,
   "metadata": {},
   "outputs": [
    {
     "data": {
      "text/html": [
       "<div>\n",
       "<style scoped>\n",
       "    .dataframe tbody tr th:only-of-type {\n",
       "        vertical-align: middle;\n",
       "    }\n",
       "\n",
       "    .dataframe tbody tr th {\n",
       "        vertical-align: top;\n",
       "    }\n",
       "\n",
       "    .dataframe thead th {\n",
       "        text-align: right;\n",
       "    }\n",
       "</style>\n",
       "<table border=\"1\" class=\"dataframe\">\n",
       "  <thead>\n",
       "    <tr style=\"text-align: right;\">\n",
       "      <th></th>\n",
       "      <th>mean_fit_time</th>\n",
       "      <th>std_fit_time</th>\n",
       "      <th>mean_score_time</th>\n",
       "      <th>std_score_time</th>\n",
       "      <th>param_C</th>\n",
       "      <th>param_gamma</th>\n",
       "      <th>params</th>\n",
       "      <th>split0_test_score</th>\n",
       "      <th>split1_test_score</th>\n",
       "      <th>split2_test_score</th>\n",
       "      <th>...</th>\n",
       "      <th>mean_test_score</th>\n",
       "      <th>std_test_score</th>\n",
       "      <th>rank_test_score</th>\n",
       "      <th>split0_train_score</th>\n",
       "      <th>split1_train_score</th>\n",
       "      <th>split2_train_score</th>\n",
       "      <th>split3_train_score</th>\n",
       "      <th>split4_train_score</th>\n",
       "      <th>mean_train_score</th>\n",
       "      <th>std_train_score</th>\n",
       "    </tr>\n",
       "  </thead>\n",
       "  <tbody>\n",
       "    <tr>\n",
       "      <th>0</th>\n",
       "      <td>0.036508</td>\n",
       "      <td>0.002728</td>\n",
       "      <td>0.006983</td>\n",
       "      <td>0.000006</td>\n",
       "      <td>1</td>\n",
       "      <td>0.01</td>\n",
       "      <td>{'C': 1, 'gamma': 0.01}</td>\n",
       "      <td>0.854890</td>\n",
       "      <td>0.876972</td>\n",
       "      <td>0.880126</td>\n",
       "      <td>...</td>\n",
       "      <td>0.867967</td>\n",
       "      <td>0.011072</td>\n",
       "      <td>7</td>\n",
       "      <td>0.878357</td>\n",
       "      <td>0.887046</td>\n",
       "      <td>0.887836</td>\n",
       "      <td>0.890292</td>\n",
       "      <td>0.895817</td>\n",
       "      <td>0.887869</td>\n",
       "      <td>0.005660</td>\n",
       "    </tr>\n",
       "    <tr>\n",
       "      <th>1</th>\n",
       "      <td>0.048023</td>\n",
       "      <td>0.000610</td>\n",
       "      <td>0.008431</td>\n",
       "      <td>0.000497</td>\n",
       "      <td>1</td>\n",
       "      <td>0.001</td>\n",
       "      <td>{'C': 1, 'gamma': 0.001}</td>\n",
       "      <td>0.618297</td>\n",
       "      <td>0.640379</td>\n",
       "      <td>0.618297</td>\n",
       "      <td>...</td>\n",
       "      <td>0.632356</td>\n",
       "      <td>0.012976</td>\n",
       "      <td>11</td>\n",
       "      <td>0.662717</td>\n",
       "      <td>0.623223</td>\n",
       "      <td>0.627962</td>\n",
       "      <td>0.641673</td>\n",
       "      <td>0.647987</td>\n",
       "      <td>0.640713</td>\n",
       "      <td>0.014188</td>\n",
       "    </tr>\n",
       "    <tr>\n",
       "      <th>2</th>\n",
       "      <td>0.054782</td>\n",
       "      <td>0.001694</td>\n",
       "      <td>0.008408</td>\n",
       "      <td>0.000503</td>\n",
       "      <td>1</td>\n",
       "      <td>0.0001</td>\n",
       "      <td>{'C': 1, 'gamma': 0.0001}</td>\n",
       "      <td>0.463722</td>\n",
       "      <td>0.438486</td>\n",
       "      <td>0.488959</td>\n",
       "      <td>...</td>\n",
       "      <td>0.457347</td>\n",
       "      <td>0.017797</td>\n",
       "      <td>12</td>\n",
       "      <td>0.455766</td>\n",
       "      <td>0.462085</td>\n",
       "      <td>0.449447</td>\n",
       "      <td>0.460142</td>\n",
       "      <td>0.459353</td>\n",
       "      <td>0.457359</td>\n",
       "      <td>0.004454</td>\n",
       "    </tr>\n",
       "    <tr>\n",
       "      <th>3</th>\n",
       "      <td>0.028523</td>\n",
       "      <td>0.001025</td>\n",
       "      <td>0.005096</td>\n",
       "      <td>0.000888</td>\n",
       "      <td>10</td>\n",
       "      <td>0.01</td>\n",
       "      <td>{'C': 10, 'gamma': 0.01}</td>\n",
       "      <td>0.943218</td>\n",
       "      <td>0.955836</td>\n",
       "      <td>0.924290</td>\n",
       "      <td>...</td>\n",
       "      <td>0.938086</td>\n",
       "      <td>0.011429</td>\n",
       "      <td>4</td>\n",
       "      <td>0.973934</td>\n",
       "      <td>0.971564</td>\n",
       "      <td>0.977093</td>\n",
       "      <td>0.971586</td>\n",
       "      <td>0.970008</td>\n",
       "      <td>0.972837</td>\n",
       "      <td>0.002470</td>\n",
       "    </tr>\n",
       "    <tr>\n",
       "      <th>4</th>\n",
       "      <td>0.033990</td>\n",
       "      <td>0.001498</td>\n",
       "      <td>0.006412</td>\n",
       "      <td>0.000512</td>\n",
       "      <td>10</td>\n",
       "      <td>0.001</td>\n",
       "      <td>{'C': 10, 'gamma': 0.001}</td>\n",
       "      <td>0.839117</td>\n",
       "      <td>0.858044</td>\n",
       "      <td>0.858044</td>\n",
       "      <td>...</td>\n",
       "      <td>0.850914</td>\n",
       "      <td>0.007602</td>\n",
       "      <td>8</td>\n",
       "      <td>0.867299</td>\n",
       "      <td>0.871248</td>\n",
       "      <td>0.868088</td>\n",
       "      <td>0.869771</td>\n",
       "      <td>0.881610</td>\n",
       "      <td>0.871603</td>\n",
       "      <td>0.005187</td>\n",
       "    </tr>\n",
       "    <tr>\n",
       "      <th>5</th>\n",
       "      <td>0.052072</td>\n",
       "      <td>0.002672</td>\n",
       "      <td>0.008991</td>\n",
       "      <td>0.000626</td>\n",
       "      <td>10</td>\n",
       "      <td>0.0001</td>\n",
       "      <td>{'C': 10, 'gamma': 0.0001}</td>\n",
       "      <td>0.627760</td>\n",
       "      <td>0.640379</td>\n",
       "      <td>0.624606</td>\n",
       "      <td>...</td>\n",
       "      <td>0.638675</td>\n",
       "      <td>0.011279</td>\n",
       "      <td>10</td>\n",
       "      <td>0.665087</td>\n",
       "      <td>0.624803</td>\n",
       "      <td>0.635071</td>\n",
       "      <td>0.647198</td>\n",
       "      <td>0.650355</td>\n",
       "      <td>0.644503</td>\n",
       "      <td>0.013728</td>\n",
       "    </tr>\n",
       "    <tr>\n",
       "      <th>6</th>\n",
       "      <td>0.027125</td>\n",
       "      <td>0.000743</td>\n",
       "      <td>0.002986</td>\n",
       "      <td>0.000012</td>\n",
       "      <td>100</td>\n",
       "      <td>0.01</td>\n",
       "      <td>{'C': 100, 'gamma': 0.01}</td>\n",
       "      <td>0.940063</td>\n",
       "      <td>0.946372</td>\n",
       "      <td>0.952681</td>\n",
       "      <td>...</td>\n",
       "      <td>0.946304</td>\n",
       "      <td>0.007210</td>\n",
       "      <td>2</td>\n",
       "      <td>0.996051</td>\n",
       "      <td>0.995261</td>\n",
       "      <td>0.995261</td>\n",
       "      <td>0.997632</td>\n",
       "      <td>0.996054</td>\n",
       "      <td>0.996052</td>\n",
       "      <td>0.000866</td>\n",
       "    </tr>\n",
       "    <tr>\n",
       "      <th>7</th>\n",
       "      <td>0.026931</td>\n",
       "      <td>0.000630</td>\n",
       "      <td>0.004378</td>\n",
       "      <td>0.000476</td>\n",
       "      <td>100</td>\n",
       "      <td>0.001</td>\n",
       "      <td>{'C': 100, 'gamma': 0.001}</td>\n",
       "      <td>0.930599</td>\n",
       "      <td>0.940063</td>\n",
       "      <td>0.902208</td>\n",
       "      <td>...</td>\n",
       "      <td>0.926093</td>\n",
       "      <td>0.013005</td>\n",
       "      <td>5</td>\n",
       "      <td>0.943128</td>\n",
       "      <td>0.944708</td>\n",
       "      <td>0.955766</td>\n",
       "      <td>0.947119</td>\n",
       "      <td>0.951855</td>\n",
       "      <td>0.948515</td>\n",
       "      <td>0.004673</td>\n",
       "    </tr>\n",
       "    <tr>\n",
       "      <th>8</th>\n",
       "      <td>0.036889</td>\n",
       "      <td>0.001908</td>\n",
       "      <td>0.006814</td>\n",
       "      <td>0.000389</td>\n",
       "      <td>100</td>\n",
       "      <td>0.0001</td>\n",
       "      <td>{'C': 100, 'gamma': 0.0001}</td>\n",
       "      <td>0.823344</td>\n",
       "      <td>0.858044</td>\n",
       "      <td>0.848580</td>\n",
       "      <td>...</td>\n",
       "      <td>0.843968</td>\n",
       "      <td>0.011547</td>\n",
       "      <td>9</td>\n",
       "      <td>0.860190</td>\n",
       "      <td>0.860979</td>\n",
       "      <td>0.857030</td>\n",
       "      <td>0.865825</td>\n",
       "      <td>0.877664</td>\n",
       "      <td>0.864338</td>\n",
       "      <td>0.007234</td>\n",
       "    </tr>\n",
       "    <tr>\n",
       "      <th>9</th>\n",
       "      <td>0.028725</td>\n",
       "      <td>0.000743</td>\n",
       "      <td>0.002612</td>\n",
       "      <td>0.000503</td>\n",
       "      <td>1000</td>\n",
       "      <td>0.01</td>\n",
       "      <td>{'C': 1000, 'gamma': 0.01}</td>\n",
       "      <td>0.943218</td>\n",
       "      <td>0.936909</td>\n",
       "      <td>0.952681</td>\n",
       "      <td>...</td>\n",
       "      <td>0.943777</td>\n",
       "      <td>0.009469</td>\n",
       "      <td>3</td>\n",
       "      <td>1.000000</td>\n",
       "      <td>1.000000</td>\n",
       "      <td>1.000000</td>\n",
       "      <td>1.000000</td>\n",
       "      <td>1.000000</td>\n",
       "      <td>1.000000</td>\n",
       "      <td>0.000000</td>\n",
       "    </tr>\n",
       "    <tr>\n",
       "      <th>10</th>\n",
       "      <td>0.028735</td>\n",
       "      <td>0.001730</td>\n",
       "      <td>0.003183</td>\n",
       "      <td>0.000398</td>\n",
       "      <td>1000</td>\n",
       "      <td>0.001</td>\n",
       "      <td>{'C': 1000, 'gamma': 0.001}</td>\n",
       "      <td>0.965300</td>\n",
       "      <td>0.958991</td>\n",
       "      <td>0.949527</td>\n",
       "      <td>...</td>\n",
       "      <td>0.956409</td>\n",
       "      <td>0.006143</td>\n",
       "      <td>1</td>\n",
       "      <td>0.984992</td>\n",
       "      <td>0.983412</td>\n",
       "      <td>0.979463</td>\n",
       "      <td>0.984215</td>\n",
       "      <td>0.978690</td>\n",
       "      <td>0.982154</td>\n",
       "      <td>0.002574</td>\n",
       "    </tr>\n",
       "    <tr>\n",
       "      <th>11</th>\n",
       "      <td>0.030120</td>\n",
       "      <td>0.002307</td>\n",
       "      <td>0.004787</td>\n",
       "      <td>0.000381</td>\n",
       "      <td>1000</td>\n",
       "      <td>0.0001</td>\n",
       "      <td>{'C': 1000, 'gamma': 0.0001}</td>\n",
       "      <td>0.924290</td>\n",
       "      <td>0.930599</td>\n",
       "      <td>0.892744</td>\n",
       "      <td>...</td>\n",
       "      <td>0.916615</td>\n",
       "      <td>0.013467</td>\n",
       "      <td>6</td>\n",
       "      <td>0.933649</td>\n",
       "      <td>0.928910</td>\n",
       "      <td>0.933649</td>\n",
       "      <td>0.925809</td>\n",
       "      <td>0.937648</td>\n",
       "      <td>0.931933</td>\n",
       "      <td>0.004128</td>\n",
       "    </tr>\n",
       "  </tbody>\n",
       "</table>\n",
       "<p>12 rows × 22 columns</p>\n",
       "</div>"
      ],
      "text/plain": [
       "    mean_fit_time  std_fit_time  mean_score_time  std_score_time param_C  \\\n",
       "0        0.036508      0.002728         0.006983        0.000006       1   \n",
       "1        0.048023      0.000610         0.008431        0.000497       1   \n",
       "2        0.054782      0.001694         0.008408        0.000503       1   \n",
       "3        0.028523      0.001025         0.005096        0.000888      10   \n",
       "4        0.033990      0.001498         0.006412        0.000512      10   \n",
       "5        0.052072      0.002672         0.008991        0.000626      10   \n",
       "6        0.027125      0.000743         0.002986        0.000012     100   \n",
       "7        0.026931      0.000630         0.004378        0.000476     100   \n",
       "8        0.036889      0.001908         0.006814        0.000389     100   \n",
       "9        0.028725      0.000743         0.002612        0.000503    1000   \n",
       "10       0.028735      0.001730         0.003183        0.000398    1000   \n",
       "11       0.030120      0.002307         0.004787        0.000381    1000   \n",
       "\n",
       "   param_gamma                        params  split0_test_score  \\\n",
       "0         0.01       {'C': 1, 'gamma': 0.01}           0.854890   \n",
       "1        0.001      {'C': 1, 'gamma': 0.001}           0.618297   \n",
       "2       0.0001     {'C': 1, 'gamma': 0.0001}           0.463722   \n",
       "3         0.01      {'C': 10, 'gamma': 0.01}           0.943218   \n",
       "4        0.001     {'C': 10, 'gamma': 0.001}           0.839117   \n",
       "5       0.0001    {'C': 10, 'gamma': 0.0001}           0.627760   \n",
       "6         0.01     {'C': 100, 'gamma': 0.01}           0.940063   \n",
       "7        0.001    {'C': 100, 'gamma': 0.001}           0.930599   \n",
       "8       0.0001   {'C': 100, 'gamma': 0.0001}           0.823344   \n",
       "9         0.01    {'C': 1000, 'gamma': 0.01}           0.943218   \n",
       "10       0.001   {'C': 1000, 'gamma': 0.001}           0.965300   \n",
       "11      0.0001  {'C': 1000, 'gamma': 0.0001}           0.924290   \n",
       "\n",
       "    split1_test_score  split2_test_score  ...  mean_test_score  \\\n",
       "0            0.876972           0.880126  ...         0.867967   \n",
       "1            0.640379           0.618297  ...         0.632356   \n",
       "2            0.438486           0.488959  ...         0.457347   \n",
       "3            0.955836           0.924290  ...         0.938086   \n",
       "4            0.858044           0.858044  ...         0.850914   \n",
       "5            0.640379           0.624606  ...         0.638675   \n",
       "6            0.946372           0.952681  ...         0.946304   \n",
       "7            0.940063           0.902208  ...         0.926093   \n",
       "8            0.858044           0.848580  ...         0.843968   \n",
       "9            0.936909           0.952681  ...         0.943777   \n",
       "10           0.958991           0.949527  ...         0.956409   \n",
       "11           0.930599           0.892744  ...         0.916615   \n",
       "\n",
       "    std_test_score  rank_test_score  split0_train_score  split1_train_score  \\\n",
       "0         0.011072                7            0.878357            0.887046   \n",
       "1         0.012976               11            0.662717            0.623223   \n",
       "2         0.017797               12            0.455766            0.462085   \n",
       "3         0.011429                4            0.973934            0.971564   \n",
       "4         0.007602                8            0.867299            0.871248   \n",
       "5         0.011279               10            0.665087            0.624803   \n",
       "6         0.007210                2            0.996051            0.995261   \n",
       "7         0.013005                5            0.943128            0.944708   \n",
       "8         0.011547                9            0.860190            0.860979   \n",
       "9         0.009469                3            1.000000            1.000000   \n",
       "10        0.006143                1            0.984992            0.983412   \n",
       "11        0.013467                6            0.933649            0.928910   \n",
       "\n",
       "    split2_train_score  split3_train_score  split4_train_score  \\\n",
       "0             0.887836            0.890292            0.895817   \n",
       "1             0.627962            0.641673            0.647987   \n",
       "2             0.449447            0.460142            0.459353   \n",
       "3             0.977093            0.971586            0.970008   \n",
       "4             0.868088            0.869771            0.881610   \n",
       "5             0.635071            0.647198            0.650355   \n",
       "6             0.995261            0.997632            0.996054   \n",
       "7             0.955766            0.947119            0.951855   \n",
       "8             0.857030            0.865825            0.877664   \n",
       "9             1.000000            1.000000            1.000000   \n",
       "10            0.979463            0.984215            0.978690   \n",
       "11            0.933649            0.925809            0.937648   \n",
       "\n",
       "    mean_train_score  std_train_score  \n",
       "0           0.887869         0.005660  \n",
       "1           0.640713         0.014188  \n",
       "2           0.457359         0.004454  \n",
       "3           0.972837         0.002470  \n",
       "4           0.871603         0.005187  \n",
       "5           0.644503         0.013728  \n",
       "6           0.996052         0.000866  \n",
       "7           0.948515         0.004673  \n",
       "8           0.864338         0.007234  \n",
       "9           1.000000         0.000000  \n",
       "10          0.982154         0.002574  \n",
       "11          0.931933         0.004128  \n",
       "\n",
       "[12 rows x 22 columns]"
      ]
     },
     "execution_count": 74,
     "metadata": {},
     "output_type": "execute_result"
    }
   ],
   "source": [
    "#Results of grid search CV\n",
    "cv_results = pd.DataFrame(model_cv.cv_results_)\n",
    "cv_results"
   ]
  },
  {
   "cell_type": "markdown",
   "metadata": {},
   "source": [
    "To get a better sense of how training and test accuracy varies with C, let's plot the tranining and test accuracies againt C."
   ]
  },
  {
   "cell_type": "code",
   "execution_count": 75,
   "metadata": {
    "scrolled": true
   },
   "outputs": [
    {
     "data": {
      "image/png": "[encoded data removed]",
      "text/plain": [
       "<Figure size 1152x432 with 3 Axes>"
      ]
     },
     "metadata": {
      "needs_background": "light"
     },
     "output_type": "display_data"
    }
   ],
   "source": [
    "#Converting C to numeric type for plotting on x-axis\n",
    "cv_results['param_C'] = cv_results['param_C'].astype('int')\n",
    "\n",
    "#Plotting\n",
    "plt.figure(figsize=(16,6))\n",
    "\n",
    "#Subplot 1/3\n",
    "plt.subplot(131)\n",
    "gamma_01 = cv_results[cv_results['param_gamma']==0.01]\n",
    "\n",
    "\n",
    "plt.plot(gamma_01['param_C'], gamma_01['mean_test_score'])\n",
    "plt.plot(gamma_01['param_C'], gamma_01['mean_train_score'])\n",
    "plt.xlabel('C')\n",
    "plt.ylabel('Accuracy')\n",
    "plt.title('Gamma=0.01')\n",
    "plt.ylim([0.80,1])\n",
    "plt.legend(['test accuracy', 'train accuracy'], loc = 'upper left')\n",
    "plt.xscale('log')\n",
    "\n",
    "#Subplot 2/3\n",
    "plt.subplot(132)\n",
    "gamma_001 = cv_results[cv_results['param_gamma']==0.001]\n",
    "\n",
    "\n",
    "plt.plot(gamma_001['param_C'], gamma_001['mean_test_score'])\n",
    "plt.plot(gamma_001['param_C'], gamma_001['mean_train_score'])\n",
    "plt.xlabel('C')\n",
    "plt.ylabel('Accuracy')\n",
    "plt.title('Gamma=0.001')\n",
    "plt.ylim([0.80,1])\n",
    "plt.legend(['test accuracy', 'train accuracy'], loc = 'upper left')\n",
    "plt.xscale('log')\n",
    "\n",
    "#Subplot 3/3\n",
    "plt.subplot(133)\n",
    "gamma_0001 = cv_results[cv_results['param_gamma']==0.0001]\n",
    "\n",
    "\n",
    "plt.plot(gamma_0001['param_C'], gamma_0001['mean_test_score'])\n",
    "plt.plot(gamma_0001['param_C'], gamma_0001['mean_train_score'])\n",
    "plt.xlabel('C')\n",
    "plt.ylabel('Accuracy')\n",
    "plt.title('Gamma=0.0001')\n",
    "plt.ylim([0.80,1])\n",
    "plt.legend(['test accuracy', 'train accuracy'], loc = 'upper left')\n",
    "plt.xscale('log')"
   ]
  },
  {
   "cell_type": "code",
   "execution_count": 76,
   "metadata": {},
   "outputs": [
    {
     "name": "stdout",
     "output_type": "stream",
     "text": [
      "[[ 65   3   0   0]\n",
      " [  3  69   6   0]\n",
      " [  0   3 128   3]\n",
      " [  0   0   3 245]] \n",
      "\n",
      "Accuracy : 0.9602272727272727\n",
      "Precision Score : 0.9601459854014598\n",
      "Recall Score : 0.9602272727272727\n"
     ]
    }
   ],
   "source": [
    "#Specify optimal hyperparameters\n",
    "best_params = {'C':1000, 'gamma': 0.001, 'kernel':'rbf'}\n",
    "\n",
    "#Model\n",
    "model = SVC(C=1000, gamma=0.001, kernel='rbf')\n",
    "\n",
    "model.fit(X_train, y_train)\n",
    "y_pred = model.predict(X_test)\n",
    "\n",
    "\n",
    "\n",
    "#Print other metrics\n",
    "print(metrics.confusion_matrix(y_test, y_pred), '\\n')\n",
    "print('Accuracy :', metrics.accuracy_score(y_test, y_pred))\n",
    "print('Precision Score :',metrics.precision_score(y_test, y_pred, average='weighted'))\n",
    "print('Recall Score :',metrics.recall_score(y_test, y_pred, average='weighted'))"
   ]
  },
  {
   "cell_type": "code",
   "execution_count": 84,
   "metadata": {},
   "outputs": [
    {
     "name": "stdout",
     "output_type": "stream",
     "text": [
      "The highest test accuracy is 0.9564089765603162 at C = 1000\n"
     ]
    }
   ],
   "source": [
    "#Now lookin at the optimal C values found by GridSearchCV\n",
    "best_score = model_cv.best_score_\n",
    "best_C = model_cv.best_params_['C']\n",
    "print('The highest test accuracy is {0} at C = {1}'.format(best_score, best_C))"
   ]
  },
  {
   "cell_type": "code",
   "execution_count": 85,
   "metadata": {},
   "outputs": [],
   "source": [
    "#Creating the model with the best value of C\n",
    "model = SVC(C=best_C)\n",
    "\n",
    "#fit\n",
    "model.fit(X_train, y_train)\n",
    "\n",
    "#predict\n",
    "y_pred = model .predict(X_test)"
   ]
  },
  {
   "cell_type": "code",
   "execution_count": 86,
   "metadata": {},
   "outputs": [
    {
     "name": "stdout",
     "output_type": "stream",
     "text": [
      "Accuracy : 0.9128787878787878\n",
      "Precision Score : 0.9147460999264846\n",
      "Recall Score : 0.9128787878787878\n"
     ]
    }
   ],
   "source": [
    "#print other metrics\n",
    "\n",
    "#accuracy\n",
    "print('Accuracy :', metrics.accuracy_score(y_test, y_pred))\n",
    "print('Precision Score :',metrics.precision_score(y_test, y_pred, average='weighted'))\n",
    "print('Recall Score :',metrics.recall_score(y_test, y_pred, average='weighted'))"
   ]
  },
  {
   "cell_type": "code",
   "execution_count": null,
   "metadata": {},
   "outputs": [],
   "source": []
  }
 ],
 "metadata": {
  "kernelspec": {
   "display_name": "Python 3",
   "language": "python",
   "name": "python3"
  },
  "language_info": {
   "codemirror_mode": {
    "name": "ipython",
    "version": 3
   },
   "file_extension": ".py",
   "mimetype": "text/x-python",
   "name": "python",
   "nbconvert_exporter": "python",
   "pygments_lexer": "ipython3",
   "version": "3.8.3"
  }
 },
 "nbformat": 4,
 "nbformat_minor": 4
}
